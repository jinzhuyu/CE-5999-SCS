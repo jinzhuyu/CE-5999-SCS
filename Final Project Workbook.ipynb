{
 "cells": [
  {
   "cell_type": "code",
   "execution_count": 1,
   "metadata": {},
   "outputs": [],
   "source": [
    "import numpy as np\n",
    "import matplotlib.pyplot as plt\n",
    "import matplotlib.legend_handler\n",
    "import scipy\n",
    "from scipy.integrate import solve_ivp"
   ]
  },
  {
   "cell_type": "code",
   "execution_count": 2,
   "metadata": {},
   "outputs": [
    {
     "name": "stdout",
     "output_type": "stream",
     "text": [
      "Table 1 [[0.    0.134 0.308 0.456 0.033 0.024 0.012 0.024 0.007 0.001 0.31 ]\n",
      " [0.    0.    0.01  0.023 0.001 0.003 0.    0.002 0.178 0.008 0.004]\n",
      " [0.002 0.109 0.    0.12  0.002 0.005 0.002 0.002 0.004 0.002 0.007]\n",
      " [0.006 0.083 0.013 0.    0.004 0.003 0.004 0.001 0.004 0.002 0.005]\n",
      " [0.005 0.05  0.009 0.02  0.    0.005 0.008 0.008 0.008 0.005 0.02 ]\n",
      " [0.001 0.233 0.104 0.109 0.005 0.    0.007 0.006 0.001 0.002 0.004]\n",
      " [0.003 0.1   0.03  0.1   0.007 0.003 0.    0.003 0.007 0.003 0.008]\n",
      " [0.008 0.5   0.1   0.05  0.05  0.02  0.02  0.    0.    0.02  0.008]\n",
      " [0.002 0.03  0.009 0.005 0.005 0.    0.002 0.005 0.    0.005 0.005]\n",
      " [0.005 0.03  0.02  0.02  0.03  0.03  0.02  0.01  0.02  0.    0.005]\n",
      " [0.    0.    0.    0.    0.    0.    0.    0.    0.    0.    0.   ]]\n",
      "[0.032 1.269 0.603 0.903 0.137 0.093 0.075 0.061 0.229 0.048 0.376]\n"
     ]
    }
   ],
   "source": [
    "# Create the initial table provided:\n",
    "#Air Transportation = P1\n",
    "# Created these column-wise becasue its the only way I know to concatenate easily, do not use the P's for anything\n",
    "P1 = np.array([[0,0,.002,.006,.005,.001,.003,.008,.002,.005,0]]) \n",
    "P1 = P1.T\n",
    "# Electricity (P2)\n",
    "P2 = np.array([[.134,0,.109,.083,.05,.233,.1,.5,.03,.03,0]])\n",
    "P2 = P2.T\n",
    "# Wireless Telecomms (P3)\n",
    "P3 = np.array([[.308,.01,0,.013,.009,.104,.03,.1,.009,.02,0]])\n",
    "P3 = P3.T\n",
    "# Wired Telecomms (P4)\n",
    "P4 = np.array([[.456,.023,.12,0,.02,.109,.1,.05,.005,.02,0]])\n",
    "P4 = P4.T\n",
    "# Water Management (P5)\n",
    "P5 = np.array([[.033,.001,.002,.004,0,.005,.007,.05,.005,.03,0]])\n",
    "P5 = P5.T\n",
    "# Rail Transport (P6)\n",
    "P6 = np.array([[.024,.003,.005,.003,.005,0,.003,.02,0,.03,0]])\n",
    "P6 = P6.T\n",
    "# Finance (P7)\n",
    "P7 = np.array([[.012,0,.002,.004,.008,.007,0,.02,.002,.02,0]])\n",
    "P7 = P7.T\n",
    "# Fuel and Petroleum Grid (P8)\n",
    "P8 = np.array([[.024,.002,.002,.001,.008,.006,.003,0,.005,.01,0]])\n",
    "P8 = P8.T\n",
    "# Natural Gas (P9)\n",
    "P9 = np.array([[.007,.178,.004,.004,.008,.001,.007,0,0,.02,0]])\n",
    "P9 = P9.T\n",
    "# Naval Ports (P10)\n",
    "P10 = np.array([[.001,.008,.002,.002,.005,.002,.003,.02,.005,0,0]])\n",
    "P10 = P10.T\n",
    "# Satellite Communications and Navigations (P11)\n",
    "P11 = np.array([[.310,.004,.007,.005,.02,.004,.008,.008,.005,.005,0,]])\n",
    "P11 = P11.T\n",
    "\n",
    "T_1 = np.concatenate((P1,P2,P3,P4,P5,P6,P7,P8,P9,P10,P11),axis=1)\n",
    "\n",
    "print(\"Table 1\", T_1)\n",
    "colSums = np.sum(T_1, axis = 0)\n",
    "print(colSums)"
   ]
  },
  {
   "cell_type": "code",
   "execution_count": 3,
   "metadata": {},
   "outputs": [],
   "source": [
    "#Determine the A matrix\n",
    "# a_ij = xij/xj\n",
    "\n",
    "\n",
    "\n",
    "# Take a specific value in table 1 \n",
    "#A = T_1.copy()\n",
    "#columns = 11\n",
    "#rows = 11\n",
    "# Across the columns, look at each value \n",
    "#for j in range(columns):\n",
    "#    for i in range(rows):\n",
    "        #If the sum is non-zero we can divide, if it is zero we just assume the value is zero\n",
    "#        if np.sum(T_1[i,:]) == 0:\n",
    "#            A[i,j] = 0\n",
    "#        else:\n",
    "            # This is the normalization, the value in table one divided by the sum of that column\n",
    "#            A[i,j] = T_1[i,j]/colSums[j]\n",
    "            #print(\"Col Sums = \", colSums[j])\n",
    "        \n",
    "        \n",
    "#print(\"A=\", A)\n",
    "\n",
    "\n"
   ]
  },
  {
   "cell_type": "code",
   "execution_count": 4,
   "metadata": {},
   "outputs": [
    {
     "name": "stdout",
     "output_type": "stream",
     "text": [
      "k_i= [[0.1309]\n",
      " [0.0229]\n",
      " [0.0255]\n",
      " [0.0125]\n",
      " [0.0138]\n",
      " [0.0472]\n",
      " [0.0264]\n",
      " [0.0776]\n",
      " [0.0068]\n",
      " [0.019 ]\n",
      " [0.    ]]\n"
     ]
    }
   ],
   "source": [
    "# Calculate kappa, row summation of table 1: \n",
    "#k1 = np.sum(P1)\n",
    "#print(k1)\n",
    "\n",
    "# Given equation, still unsure what the (1/(n-1)) should be though\n",
    "k_sum = np.sum(T_1, axis = 1)\n",
    "ki = (1/(11-1))*k_sum\n",
    "\n",
    "\n",
    "ki = ki.reshape(11,1)\n",
    "print(\"k_i=\", ki)\n"
   ]
  },
  {
   "cell_type": "code",
   "execution_count": 5,
   "metadata": {},
   "outputs": [
    {
     "name": "stdout",
     "output_type": "stream",
     "text": [
      "lambdaSum [0.032 1.269 0.603 0.903 0.137 0.093 0.075 0.061 0.229 0.048 0.376]\n",
      "lambda_j= [[0.0032]\n",
      " [0.1269]\n",
      " [0.0603]\n",
      " [0.0903]\n",
      " [0.0137]\n",
      " [0.0093]\n",
      " [0.0075]\n",
      " [0.0061]\n",
      " [0.0229]\n",
      " [0.0048]\n",
      " [0.0376]]\n"
     ]
    }
   ],
   "source": [
    "#Calculate lambda, column summation:\n",
    "\n",
    "lambda_sum = np.sum(T_1, axis = 0)\n",
    "print(\"lambdaSum\", lambda_sum)\n",
    "lambdaj = (1/(11-1))*lambda_sum\n",
    "\n",
    "lambdaj = lambdaj.reshape(11,1)\n",
    "print(\"lambda_j=\", lambdaj)"
   ]
  },
  {
   "cell_type": "code",
   "execution_count": 6,
   "metadata": {},
   "outputs": [
    {
     "name": "stdout",
     "output_type": "stream",
     "text": [
      "S= [[1.00432399e+00 2.37658587e-01 3.25415804e-01 5.09710217e-01\n",
      "  3.80922952e-02 2.89133004e-02 1.60003339e-02 2.65887201e-02\n",
      "  5.32330560e-02 5.67007349e-03 3.18630262e-01]\n",
      " [6.38348157e-04 1.01204742e+00 1.32038313e-02 2.69119803e-02\n",
      "  2.52456936e-03 3.55077663e-03 7.93720786e-04 3.13087286e-03\n",
      "  1.80521967e-01 9.16458214e-03 5.51758830e-03]\n",
      " [2.88980951e-03 1.24509754e-01 1.00509468e+00 1.26131134e-01\n",
      "  3.15768057e-03 6.02936231e-03 2.79409896e-03 2.69351411e-03\n",
      "  2.68284308e-02 3.48566133e-03 9.34294082e-03]\n",
      " [6.18984250e-03 8.93410431e-02 1.68574256e-02 1.00806692e+00\n",
      "  4.67621285e-03 3.68129309e-03 4.33416557e-03 1.57186883e-03\n",
      "  2.01760987e-02 2.94683089e-03 7.70566426e-03]\n",
      " [5.36725575e-03 6.18072721e-02 1.36523855e-02 2.76672352e-02\n",
      "  1.00116665e+00 5.84454348e-03 8.57995800e-03 8.53346308e-03\n",
      "  1.93976488e-02 5.89338437e-03 2.24550549e-02]\n",
      " [2.25261110e-03 2.63229510e-01 1.10838868e-01 1.31285956e-01\n",
      "  6.91525949e-03 1.00214881e+00 8.18971671e-03 7.32201880e-03\n",
      "  4.90548691e-02 5.04749613e-03 7.72503549e-03]\n",
      " [3.88755065e-03 1.17832729e-01 3.50694796e-02 1.09825744e-01\n",
      "  8.25128711e-03 4.20658425e-03 1.00087504e+00 3.79162598e-03\n",
      "  2.87475258e-02 4.50820471e-03 1.08565508e-02]\n",
      " [9.45674869e-03 5.36634990e-01 1.14723692e-01 8.74369010e-02\n",
      "  5.31077533e-02 2.38334017e-02 2.20519692e-02 1.00299503e+00\n",
      "  9.75116006e-02 2.56336779e-02 1.62919735e-02]\n",
      " [2.19498694e-03 3.59020038e-02 1.10304362e-02 8.96776033e-03\n",
      "  5.64896851e-03 5.48916259e-04 2.36271344e-03 5.29942838e-03\n",
      "  1.00665830e+00 5.50511828e-03 6.18339507e-03]\n",
      " [5.66717770e-03 5.40188793e-02 2.82662089e-02 3.40587063e-02\n",
      "  3.14744162e-02 3.10185477e-02 2.10347436e-02 1.09996133e-02\n",
      "  3.03587229e-02 1.00121677e+00 8.50877242e-03]\n",
      " [0.00000000e+00 0.00000000e+00 0.00000000e+00 0.00000000e+00\n",
      "  0.00000000e+00 0.00000000e+00 0.00000000e+00 0.00000000e+00\n",
      "  0.00000000e+00 0.00000000e+00 1.00000000e+00]]\n"
     ]
    }
   ],
   "source": [
    "# Matrix S:\n",
    "eye = np.identity(11)\n",
    "#print(\"Identity=\", eye)\n",
    "#print(\"A Matrix=\", T_1)\n",
    "test = eye - T_1\n",
    "#print(\"Pre-Inverse\", test)\n",
    "S = np.linalg.inv(test)\n",
    "print(\"S=\", S)\n"
   ]
  },
  {
   "cell_type": "code",
   "execution_count": 7,
   "metadata": {},
   "outputs": [
    {
     "name": "stdout",
     "output_type": "stream",
     "text": [
      "kBar_i= [[0.10428683]\n",
      " [0.25329822]\n",
      " [0.16741528]\n",
      " [0.20700626]\n",
      " [0.11550151]\n",
      " [0.11097755]\n",
      " [0.10870165]\n",
      " [0.10729262]\n",
      " [0.15124882]\n",
      " [0.10690718]\n",
      " [0.14132172]]\n",
      "lambdaBar_j= [[0.25642366]\n",
      " [0.12580057]\n",
      " [0.13129571]\n",
      " [0.11655474]\n",
      " [0.11803648]\n",
      " [0.15940102]\n",
      " [0.13278523]\n",
      " [0.19896777]\n",
      " [0.1090302 ]\n",
      " [0.12566226]\n",
      " [0.1       ]]\n"
     ]
    }
   ],
   "source": [
    "# 2.10 calculate kappa bar and lambda bar:\n",
    "# axis = 1 is a column-wise, axis = 0 is a row-wise operation\n",
    "#From the given equation, \n",
    "kBar_sum = np.sum(S, axis = 0)\n",
    "kBari = (1/(11-1))*kBar_sum\n",
    "\n",
    "kBari = kBari.reshape(11,1)\n",
    "print(\"kBar_i=\", kBari)\n",
    "\n",
    "lambdaBar_sum = np.sum(S, axis = 1)\n",
    "lambdaBarj = (1/(11-1))*lambdaBar_sum\n",
    "\n",
    "lambdaBarj = lambdaBarj.reshape(11,1)\n",
    "print(\"lambdaBar_j=\", lambdaBarj)\n"
   ]
  },
  {
   "cell_type": "code",
   "execution_count": 8,
   "metadata": {},
   "outputs": [
    {
     "name": "stdout",
     "output_type": "stream",
     "text": [
      "[[0.35]\n",
      " [0.1 ]\n",
      " [0.  ]\n",
      " [0.  ]\n",
      " [0.  ]\n",
      " [0.5 ]\n",
      " [0.  ]\n",
      " [0.  ]\n",
      " [0.  ]\n",
      " [0.2 ]\n",
      " [0.  ]]\n"
     ]
    }
   ],
   "source": [
    "# 2.13 - Sudden Snow Storm\n",
    "# External Reductions: 50% Rail Transport, 10% Electricity, 35% Air Transport, 20% Naval port operations\n",
    "# The snow storm impacts is represented by the f row vector\n",
    "# 0 represents an operating system, 1 is a totally destroyed system \n",
    "f = np.array([[.35,.1,0,0,0,.5,0,0,0,.2,0]])\n",
    "#Transpose it to be operatable for the dot product\n",
    "f = f.T\n",
    "print(f)\n"
   ]
  },
  {
   "cell_type": "code",
   "execution_count": 9,
   "metadata": {},
   "outputs": [
    {
     "name": "stdout",
     "output_type": "stream",
     "text": [
      "Snow Storm Impacts = [[0.39086992]\n",
      " [0.10503647]\n",
      " [0.01717422]\n",
      " [0.01353056]\n",
      " [0.01216022]\n",
      " [0.52919527]\n",
      " [0.01614885]\n",
      " [0.0740168 ]\n",
      " [0.00573393]\n",
      " [0.22313803]\n",
      " [0.        ]]\n"
     ]
    }
   ],
   "source": [
    "# 2.13 Solve the equation x = Sf\n",
    "snowStorm = np.dot(S,f)\n",
    "\n",
    "print(\"Snow Storm Impacts =\", snowStorm)"
   ]
  },
  {
   "cell_type": "code",
   "execution_count": 10,
   "metadata": {},
   "outputs": [
    {
     "name": "stdout",
     "output_type": "stream",
     "text": [
      "Results= [[1.15000000e+00 1.15000000e+00 1.15000000e+00 1.15000000e+00\n",
      "  1.15000000e+00 1.15000000e+00 1.15000000e+00 1.15000000e+00\n",
      "  1.15000000e+00 1.15000000e+00 1.15000000e+00]\n",
      " [2.56000000e-02 3.10000000e-03 1.45000000e-02 1.23000000e-02\n",
      "  1.02500000e-02 2.40500000e-02 1.31500000e-02 6.68000000e-02\n",
      "  4.70000000e-03 1.97500000e-02 0.00000000e+00]\n",
      " [2.08380000e-03 1.73000000e-05 1.20280000e-03 7.06800000e-04\n",
      "  2.76250000e-04 5.43005000e-03 1.00945000e-03 2.53024000e-02\n",
      "  9.64000000e-05 5.48750000e-04 0.00000000e+00]\n",
      " [2.47522600e-04 1.15900000e-07 1.29569800e-04 5.72694000e-05\n",
      "  1.26312500e-05 1.26493565e-03 1.00028350e-04 1.25057792e-02\n",
      "  2.72780000e-06 1.62437500e-05 0.00000000e+00]\n",
      " [3.24076818e-05 8.59700000e-10 1.41161374e-05 4.74632940e-06\n",
      "  6.25656250e-07 2.94729556e-04 1.00000851e-05 6.25011343e-03\n",
      "  8.11306000e-08 4.86218750e-07 0.00000000e+00]\n",
      " [4.32438165e-06 6.67510000e-12 1.53862553e-06 3.93906914e-07\n",
      "  3.12532813e-08 6.86719856e-05 1.00000026e-06 3.12500225e-03\n",
      "  2.43063620e-09 1.45810937e-08 0.00000000e+00]\n",
      " [5.79029197e-07 5.27933000e-14 1.67710019e-07 3.26940540e-08\n",
      "  1.56251641e-09 1.60005727e-05 1.00000001e-07 1.56250004e-03\n",
      "  7.29031474e-11 4.37405469e-10 0.00000000e+00]\n",
      " [7.75794018e-08 4.20523900e-16 1.82803912e-08 2.71360520e-09\n",
      "  7.81250820e-11 3.72813343e-06 1.00000000e-08 7.81250001e-04\n",
      "  2.18701567e-12 1.31220273e-11 0.00000000e+00]\n",
      " [1.03953876e-08 3.35872370e-18 1.99256264e-09 2.25229224e-10\n",
      "  3.90625041e-12 8.68655089e-07 1.00000000e-09 3.90625000e-04\n",
      "  6.56100782e-14 3.93660137e-13 0.00000000e+00]\n",
      " [1.39297588e-09 2.68533871e-20 2.17189328e-10 1.86940255e-11\n",
      "  1.95312502e-13 2.02396636e-07 1.00000000e-10 1.95312500e-04\n",
      "  1.96830039e-15 1.18098007e-14 0.00000000e+00]\n",
      " [1.86658623e-10 2.14777889e-22 2.36736367e-11 1.55160412e-12\n",
      "  9.76562501e-15 4.71584161e-08 1.00000000e-11 9.76562500e-05\n",
      "  5.90490020e-17 3.54294003e-16 0.00000000e+00]]\n",
      "(11, 11)\n"
     ]
    }
   ],
   "source": [
    "# An attempt at 2.15\n",
    "# x(k) = Sum[i=0 to i=k]((A^i)*f)\n",
    "A=T_1\n",
    "kth = 11\n",
    "eResults = []\n",
    "# Trying to run a for loop where I run the given formula from the slides and place the outputs into one big matrix\n",
    "for i in range(kth):     \n",
    "    #This is the equation from class: x(k) = Sum[i=0 to i=k]((A^i)*f)\n",
    "    x_k = np.dot(A**i, f)\n",
    "    # print(\"x_k =\",x_k)\n",
    "    \n",
    "    # Take the sum, column-wise\n",
    "    xSum = np.sum(x_k, axis = 1)\n",
    "    #xSum = xSum.reshape((11,))\n",
    "    np.shape(xSum)\n",
    "    #Place the vectors into the empty matrix\n",
    "    eResults.append(xSum)\n",
    "eResults = np.array(eResults)#.T?\n",
    "\n",
    "print(\"Results=\",eResults)\n",
    "print(np.shape(eResults))\n",
    "\n"
   ]
  },
  {
   "cell_type": "code",
   "execution_count": 11,
   "metadata": {},
   "outputs": [
    {
     "name": "stdout",
     "output_type": "stream",
     "text": [
      "range(0, 11)\n"
     ]
    },
    {
     "data": {
      "image/png": "[encoded data removed]",
      "text/plain": [
       "<Figure size 432x288 with 1 Axes>"
      ]
     },
     "metadata": {
      "needs_background": "light"
     },
     "output_type": "display_data"
    }
   ],
   "source": [
    "rows = range(eResults.shape[0])\n",
    "print(rows)\n",
    "# This is a mess, not sure how to go about this yet\n",
    "for i in range(eResults.shape[1]):\n",
    "    plt.plot(rows, eResults[:,i])\n",
    "    #print(\"Y Vals\", eResults[:,i])\n",
    "plt.title('x(k) as a Function of k');\n",
    "plt.xlabel('k');\n",
    "plt.ylabel('Impact');"
   ]
  },
  {
   "cell_type": "code",
   "execution_count": 12,
   "metadata": {},
   "outputs": [
    {
     "name": "stdout",
     "output_type": "stream",
     "text": [
      "New Electricity Sector = [[0.1474]\n",
      " [0.    ]\n",
      " [0.1199]\n",
      " [0.0913]\n",
      " [0.055 ]\n",
      " [0.2563]\n",
      " [0.11  ]\n",
      " [0.55  ]\n",
      " [0.033 ]\n",
      " [0.033 ]\n",
      " [0.    ]]\n",
      "S_new= [[1.00433918e+00 2.61739775e-01 3.25729983e-01 5.10350575e-01\n",
      "  3.81523662e-02 2.89977894e-02 1.60192201e-02 2.66632177e-02\n",
      "  5.75284905e-02 5.88814037e-03 3.18761550e-01]\n",
      " [6.39118129e-04 1.01326814e+00 1.32197577e-02 2.69444414e-02\n",
      "  2.52761448e-03 3.55505956e-03 7.94678168e-04 3.13464930e-03\n",
      "  1.80739711e-01 9.17563641e-03 5.52424358e-03]\n",
      " [2.89776715e-03 1.37125931e-01 1.00525928e+00 1.26466619e-01\n",
      "  3.18915183e-03 6.07362627e-03 2.80399348e-03 2.73254355e-03\n",
      "  2.90788165e-02 3.59990695e-03 9.41172304e-03]\n",
      " [6.19555245e-03 9.83936863e-02 1.69755323e-02 1.00830764e+00\n",
      "  4.69879482e-03 3.71305436e-03 4.34126531e-03 1.59987412e-03\n",
      "  2.17908461e-02 3.02880698e-03 7.75501843e-03]\n",
      " [5.37120597e-03 6.80700060e-02 1.37340932e-02 2.78337714e-02\n",
      "  1.00118227e+00 5.86651634e-03 8.58486969e-03 8.55283749e-03\n",
      "  2.05147517e-02 5.95009647e-03 2.24891987e-02]\n",
      " [2.26943458e-03 2.89901717e-01 1.11186851e-01 1.31995214e-01\n",
      "  6.98179377e-03 1.00224239e+00 8.21063498e-03 7.40453202e-03\n",
      "  5.38124717e-02 5.28902596e-03 7.87044989e-03]\n",
      " [3.89508155e-03 1.29772344e-01 3.52252516e-02 1.10143238e-01\n",
      "  8.28107068e-03 4.24847449e-03 1.00088440e+00 3.82856241e-03\n",
      "  3.08772312e-02 4.61632373e-03 1.09216444e-02]\n",
      " [9.49104601e-03 5.91010504e-01 1.15433110e-01 8.88828340e-02\n",
      "  5.32433939e-02 2.40241786e-02 2.20946144e-02 1.00316325e+00\n",
      "  1.07210726e-01 2.61260747e-02 1.65884237e-02]\n",
      " [2.19728151e-03 3.95398395e-02 1.10778978e-02 9.06449627e-03\n",
      "  5.65804315e-03 5.61679635e-04 2.36556650e-03 5.31068240e-03\n",
      "  1.00730719e+00 5.53806065e-03 6.20322821e-03]\n",
      " [5.67063015e-03 5.94924403e-02 2.83376205e-02 3.42042572e-02\n",
      "  3.14880701e-02 3.10377517e-02 2.10390364e-02 1.10165463e-02\n",
      "  3.13350585e-02 1.00126633e+00 8.53861377e-03]\n",
      " [0.00000000e+00 0.00000000e+00 0.00000000e+00 0.00000000e+00\n",
      "  0.00000000e+00 0.00000000e+00 0.00000000e+00 0.00000000e+00\n",
      "  0.00000000e+00 0.00000000e+00 1.00000000e+00]]\n"
     ]
    }
   ],
   "source": [
    "# 2.12 New S Matrix\n",
    "# New P2\n",
    "\n",
    "P2new = P2+(P2*0.1)\n",
    "\n",
    "#10% increase to the electricity sector\n",
    "print(\"New Electricity Sector =\",P2new)\n",
    "T_1new = np.concatenate((P1,P2new,P3,P4,P5,P6,P7,P8,P9,P10,P11),axis=1)\n",
    "\n",
    "eye = np.identity(11)\n",
    "#print(\"Identity=\", eye)\n",
    "#print(\"A Matrix=\", T_1)\n",
    "test = eye - T_1new\n",
    "#print(\"Pre-Inverse\", test)\n",
    "S_new = np.linalg.inv(test)\n",
    "print(\"S_new=\", S_new)\n"
   ]
  },
  {
   "cell_type": "code",
   "execution_count": 13,
   "metadata": {},
   "outputs": [
    {
     "name": "stdout",
     "output_type": "stream",
     "text": [
      "kBar_i2= [[0.10429663]\n",
      " [0.26883144]\n",
      " [0.16761794]\n",
      " [0.20741931]\n",
      " [0.11554026]\n",
      " [0.11103205]\n",
      " [0.10871383]\n",
      " [0.10734067]\n",
      " [0.15401953]\n",
      " [0.10704784]\n",
      " [0.14140641]]\n",
      "lambdaBar_j2= [[0.25941703]\n",
      " [0.12595231]\n",
      " [0.13286394]\n",
      " [0.11768001]\n",
      " [0.11881496]\n",
      " [0.16271645]\n",
      " [0.13426936]\n",
      " [0.20572682]\n",
      " [0.1094824 ]\n",
      " [0.12634264]\n",
      " [0.1       ]]\n"
     ]
    }
   ],
   "source": [
    "# New k and lambda bar\n",
    "\n",
    "\n",
    "kBar_sum2 = np.sum(S_new, axis = 0)\n",
    "kBari2 = (1/(11-1))*kBar_sum2\n",
    "\n",
    "kBari2 = kBari2.reshape(11,1)\n",
    "print(\"kBar_i2=\", kBari2)\n",
    "\n",
    "lambdaBar_sum2 = np.sum(S_new, axis = 1)\n",
    "lambdaBarj2 = (1/(11-1))*lambdaBar_sum2\n",
    "\n",
    "lambdaBarj2 = lambdaBarj2.reshape(11,1)\n",
    "print(\"lambdaBar_j2=\", lambdaBarj2)"
   ]
  },
  {
   "cell_type": "markdown",
   "metadata": {},
   "source": [
    "### Q 2.16"
   ]
  },
  {
   "cell_type": "code",
   "execution_count": 14,
   "metadata": {},
   "outputs": [],
   "source": [
    "def calculate_x_uncertain_A(scaling_factor):\n",
    "# # creat empty matirx g that will be used to store the g vector in each realization of mc\n",
    "    n_sample=10000  # number of samples from the uniform distribution of each x\n",
    "    mat_A=T_1\n",
    "\n",
    "    # Matrix S:\n",
    "    eye = np.identity(mat_A.shape[0])\n",
    "\n",
    "    # initialize matrix A and x\n",
    "    mat_A_mc=np.zeros((mat_A.shape[0],n_sample))\n",
    "    x_mc=np.zeros((mat_A.shape[0],n_sample))\n",
    "\n",
    "\n",
    "    for i_sample in range(n_sample):\n",
    "\n",
    "        # draw a sample of matrix A\n",
    "        mat_A_rand=np.zeros((mat_A.shape[0],mat_A.shape[1]))\n",
    "        for i in range(mat_A.shape[0]):\n",
    "            for j in range(mat_A.shape[1]):\n",
    "                mean=mat_A[i][j]\n",
    "                low=(1-scaling_factor)*mean\n",
    "                high=(1+scaling_factor)*mean\n",
    "                mat_A_rand[i][j]=np.random.uniform(low,high,1)\n",
    "\n",
    "        # solve for matrix s\n",
    "        test_mc = eye - mat_A_rand\n",
    "        S_mc = np.linalg.inv(test_mc)\n",
    "\n",
    "        # compute x\n",
    "        x_mc[:,[i_sample]] = np.matmul(S_mc,f)\n",
    "    return x_mc"
   ]
  },
  {
   "cell_type": "code",
   "execution_count": 15,
   "metadata": {
    "scrolled": true
   },
   "outputs": [],
   "source": [
    "# box plot of x to show the range of x_mc\n",
    "s0=0\n",
    "s1=0.1\n",
    "x_A_s0=calculate_x_uncertain_A(s0)\n",
    "x_A_s1=calculate_x_uncertain_A(s1)"
   ]
  },
  {
   "cell_type": "markdown",
   "metadata": {},
   "source": [
    "Historgram of $x$"
   ]
  },
  {
   "cell_type": "code",
   "execution_count": 16,
   "metadata": {},
   "outputs": [],
   "source": [
    "# for count_plot in range(mat_A.shape[0]):     \n",
    "#     plt.hist(x_A_s1[count_plot,:])\n",
    "# #     plt.plot(x_A_s0[count_plot,:])\n",
    "# #     print('Infrastructure number: %s'%(count_plot+1))\n",
    "#     plt.xlabel(\"Infrastructure %s\"%(count_plot+1),fontweight='bold',fontsize=12)\n",
    "#     plt.ylabel(\"Frequency\",fontweight='bold',fontsize=12)\n",
    "#     plt.show()"
   ]
  },
  {
   "cell_type": "code",
   "execution_count": null,
   "metadata": {},
   "outputs": [],
   "source": [
    "#### Note: use the commented figure paramters for the figure below"
   ]
  },
  {
   "cell_type": "code",
   "execution_count": 17,
   "metadata": {},
   "outputs": [
    {
     "data": {
      "image/png": "[encoded data removed]",
      "text/plain": [
       "<Figure size 432x288 with 10 Axes>"
      ]
     },
     "metadata": {
      "needs_background": "light"
     },
     "output_type": "display_data"
    }
   ],
   "source": [
    "# # figure parameters\n",
    "# import matplotlib.pylab as pylab\n",
    "# params = {'legend.fontsize': 'x-large',\n",
    "#           'figure.figsize': (14, 14),\n",
    "#          'axes.labelsize': 'x-large',\n",
    "#          'axes.titlesize':'x-large',\n",
    "#          'xtick.labelsize':'large',\n",
    "#          'ytick.labelsize':'large'}\n",
    "# pylab.rcParams.update(params)\n",
    "n_row_subplot=5\n",
    "\n",
    "fig, axs_hist = plt.subplots(n_row_subplot, 2)\n",
    " \n",
    "fig.subplots_adjust(hspace=0.4) # make a little extra space between the subplots\n",
    "for count_plot in np.arange(0,n_row_subplot,1):     \n",
    "    axs_hist[count_plot,0].hist(x_A_s1[count_plot*2,:])\n",
    "#     print('Infrastructure number: %s'%(count_plot+1))\n",
    "    this_ax0=axs_hist[count_plot,0]\n",
    "    this_ax0.set_xlabel(\"Infrastructure %s\"%(count_plot*2+1),fontweight='bold',fontsize=12)\n",
    "    this_ax0.set_ylabel(\"Frequency\",fontweight='bold',fontsize=12)\n",
    "#     this_ax0.yaxis.grid(linestyle=\"--\", color='grey')\n",
    "    \n",
    "    axs_hist[count_plot,1].hist(x_A_s1[count_plot*2+1,:])\n",
    "#     axs_hist[count_plot,1].set_xlabel(\"Infrastructure %s\"%(count_plot*2+1),fontweight='bold',fontsize=12)\n",
    "    this_ax1=axs_hist[count_plot,1]\n",
    "    this_ax1.set_xlabel(\"Infrastructure %s\"%(count_plot*2+1+1),fontweight='bold',fontsize=12)\n",
    "    this_ax1.set_ylabel(\"Frequency\",fontweight='bold',fontsize=12)\n",
    "#     this_ax1.yaxis.grid(linestyle=\"--\", color='grey')\n",
    "\n",
    "# save figure\n",
    "plt.savefig(\"dist_x_uncertain_A.pdf\",bbox_inches = \"tight\")"
   ]
  },
  {
   "cell_type": "markdown",
   "metadata": {},
   "source": [
    "Chenge in the mean of $x$ due to uncertainty on $A$"
   ]
  },
  {
   "cell_type": "code",
   "execution_count": 18,
   "metadata": {
    "scrolled": true
   },
   "outputs": [
    {
     "data": {
      "image/png": "[encoded data removed]",
      "text/plain": [
       "<Figure size 432x288 with 1 Axes>"
      ]
     },
     "metadata": {
      "needs_background": "light"
     },
     "output_type": "display_data"
    }
   ],
   "source": [
    "# different before and after including uncertainty\n",
    "difference_mean_A=(np.mean(x_A_s1, axis=1)-np.mean(x_A_s0, axis=1))*10**5\n",
    "\n",
    "infrastructure_id=np.linspace(1, 11, num=11)\n",
    "\n",
    "plt.scatter(infrastructure_id,difference_mean_A,s=100,c='b')\n",
    "plt.ylim(np.min(np.abs(difference_mean_A))-1,np.max(difference_mean_A)*1.1)\n",
    "\n",
    "plt.xlabel('Infrastructure ID',fontsize=14,fontweight='bold')\n",
    "plt.ylabel('Change in the mean of $x$ due to \\n uncertainty on $A$ ($10^{-5}$)',fontsize=14,fontweight='bold')\n",
    "plt.xticks(np.arange(1, 12, step=1),fontsize=12)\n",
    "plt.yticks(fontsize=12)\n",
    "plt.grid()\n",
    "# plt.legend(('$A$','$f$'),loc='best')\n",
    "plt.savefig(\"Change_mean_due_to_uncertain_A.pdf\",bbox_inches = \"tight\")\n",
    "\n",
    "plt.show()\n"
   ]
  },
  {
   "cell_type": "markdown",
   "metadata": {},
   "source": [
    "Variance due to uncertainty on $A$"
   ]
  },
  {
   "cell_type": "code",
   "execution_count": 19,
   "metadata": {},
   "outputs": [
    {
     "data": {
      "image/png": "[encoded data removed]",
      "text/plain": [
       "<Figure size 432x288 with 1 Axes>"
      ]
     },
     "metadata": {
      "needs_background": "light"
     },
     "output_type": "display_data"
    }
   ],
   "source": [
    "difference_var_A=(np.var(x_A_s1, axis=1)-np.var(x_A_s0, axis=1))*10**6\n",
    "\n",
    "plt.scatter(infrastructure_id,difference_var_A,s=100,c='b')\n",
    "plt.ylim(-1,np.max(difference_var_A)*1.1)\n",
    "\n",
    "plt.xlabel('Infrastructure ID',fontsize=14,fontweight='bold')\n",
    "plt.ylabel('Variance of $x$ due to \\n uncertainty on $A$ ($10^{-6}$)',fontsize=14,fontweight='bold')\n",
    "plt.xticks(np.arange(1, 12, step=1),fontsize=12)\n",
    "plt.yticks(fontsize=12)\n",
    "plt.grid()\n",
    "# plt.legend(('$A$','$f$'),loc='best')\n",
    "plt.savefig(\"var_due_to_uncertain_A.pdf\",bbox_inches = \"tight\")\n",
    "\n",
    "plt.show()"
   ]
  },
  {
   "cell_type": "code",
   "execution_count": 20,
   "metadata": {},
   "outputs": [],
   "source": [
    "# print(\"Difference between x after and before including uncertainty about A\",difference)"
   ]
  },
  {
   "cell_type": "code",
   "execution_count": 21,
   "metadata": {},
   "outputs": [],
   "source": [
    "# # density plot\n",
    "# for count_plot in range(mat_A.shape[0]):     \n",
    "# #     plt.boxplot(x_s1[count_plot,:],notch=True)\n",
    "# #     plt.plot(x_s0[count_plot,:])\n",
    "#     plt.title('Infrastructure number: %s'%(count_plot+1),fontsize=14,fontweight='bold')\n",
    "\n",
    "#     plt.hist(x_s1[count_plot,:], bins = int(180/15),normed=True)\n",
    "#     plt.show()"
   ]
  },
  {
   "cell_type": "markdown",
   "metadata": {},
   "source": [
    "- The uncertainty on x is not uniform. I personally thought it would be uniform since the relationships are linear (Of course I do not think so now).\n",
    "\n",
    "- Infrastructure 11 is the most robust to the uncertainty. In fact, this is because elements in row 11 are not subject to uncertainty since they are all zero.\n",
    "\n",
    "- Among all, infrastructure 4 and 8 are highly sensitive to the uncertainty."
   ]
  },
  {
   "cell_type": "markdown",
   "metadata": {},
   "source": [
    "### Q 2.17 Effect of uncertainty on $f$ on $x$"
   ]
  },
  {
   "cell_type": "code",
   "execution_count": 22,
   "metadata": {},
   "outputs": [],
   "source": [
    "def calculate_x_uncertain_f(scaling_factor):\n",
    "# # creat empty matirx g that will be used to store the g vector in each realization of mc\n",
    "    n_sample=10000  # number of samples from the uniform distribution of each x\n",
    "    mat_A=T_1\n",
    "\n",
    "    # Matrix S:\n",
    "    eye = np.identity(mat_A.shape[0])\n",
    "\n",
    "    # initialize matrix f and x\n",
    "    f_mc=np.zeros((mat_A.shape[0],1))\n",
    "    x_mc_f=np.zeros((mat_A.shape[0],n_sample))\n",
    "    \n",
    "    for i_sample in range(n_sample):\n",
    "        # draw a sample of matrix f\n",
    "        for i in range(f_mc.shape[0]):         \n",
    "            mean=f[i]\n",
    "            low=(1-scaling_factor)*mean\n",
    "            high=(1+scaling_factor)*mean\n",
    "            f_mc[i]=np.random.uniform(low,high,1)\n",
    "        # solve for matrix s\n",
    "        # compute x\n",
    "        x_mc_f[:,[i_sample]] = np.matmul(S,f_mc)\n",
    "    return x_mc_f"
   ]
  },
  {
   "cell_type": "code",
   "execution_count": 23,
   "metadata": {},
   "outputs": [],
   "source": [
    "sf0=0\n",
    "sf1=0.1\n",
    "x_sf0=calculate_x_uncertain_f(sf0)\n",
    "x_sf1=calculate_x_uncertain_f(sf1)\n",
    "\n",
    "# for count_plot in range(mat_A.shape[0]):     \n",
    "#     plt.boxplot(x_sf1[count_plot,:],notch=True)\n",
    "#     plt.plot(x_sf0[count_plot,:])\n",
    "#     plt.title('Infrastructure number: %s'%(count_plot+1),fontsize=14,fontweight='bold')\n",
    "# #     plt.xlabel(\"%s\"%(count_plot+1),fontweight='bold',fontsize=12)\n",
    "#     plt.show()\n"
   ]
  },
  {
   "cell_type": "markdown",
   "metadata": {},
   "source": [
    "Histogram of $x$"
   ]
  },
  {
   "cell_type": "markdown",
   "metadata": {},
   "source": [
    "#### Note: use the commented figure paramters for the figure below"
   ]
  },
  {
   "cell_type": "code",
   "execution_count": 24,
   "metadata": {},
   "outputs": [
    {
     "data": {
      "image/png": "[encoded data removed]",
      "text/plain": [
       "<Figure size 432x288 with 10 Axes>"
      ]
     },
     "metadata": {
      "needs_background": "light"
     },
     "output_type": "display_data"
    }
   ],
   "source": [
    "# # figure parameters\n",
    "# import matplotlib.pylab as pylab\n",
    "# params = {'legend.fontsize': 'x-large',\n",
    "#           'figure.figsize': (14, 14),\n",
    "#          'axes.labelsize': 'x-large',\n",
    "#          'axes.titlesize':'x-large',\n",
    "#          'xtick.labelsize':'large',\n",
    "#          'ytick.labelsize':'large'}\n",
    "# pylab.rcParams.update(params)\n",
    "n_row_subplot=5\n",
    "\n",
    "fig, axs_hist = plt.subplots(n_row_subplot, 2)\n",
    " \n",
    "fig.subplots_adjust(hspace=0.4) # make a little extra space between the subplots\n",
    "for count_plot in np.arange(0,n_row_subplot,1):     \n",
    "    axs_hist[count_plot,0].hist(x_sf1[count_plot*2,:])\n",
    "#     print('Infrastructure number: %s'%(count_plot+1))\n",
    "    this_ax0=axs_hist[count_plot,0]\n",
    "    this_ax0.set_xlabel(\"Infrastructure %s\"%(count_plot*2+1),fontweight='bold',fontsize=12)\n",
    "    this_ax0.set_ylabel(\"Frequency\",fontweight='bold',fontsize=12)\n",
    "#     this_ax0.yaxis.grid(linestyle=\"--\", color='grey')\n",
    "    \n",
    "    axs_hist[count_plot,1].hist(x_sf1[count_plot*2+1,:])\n",
    "#     axs_hist[count_plot,1].set_xlabel(\"Infrastructure %s\"%(count_plot*2+1),fontweight='bold',fontsize=12)\n",
    "    this_ax1=axs_hist[count_plot,1]\n",
    "    this_ax1.set_xlabel(\"Infrastructure %s\"%(count_plot*2+1+1),fontweight='bold',fontsize=12)\n",
    "    this_ax1.set_ylabel(\"Frequency\",fontweight='bold',fontsize=12)\n",
    "#     this_ax1.yaxis.grid(linestyle=\"--\", color='grey')\n",
    "\n",
    "# save figure\n",
    "plt.savefig(\"dist_x_uncertain_f.pdf\",bbox_inches = \"tight\")"
   ]
  },
  {
   "cell_type": "markdown",
   "metadata": {},
   "source": [
    "Change in the mean due to uncertainty on $f$"
   ]
  },
  {
   "cell_type": "code",
   "execution_count": 25,
   "metadata": {
    "scrolled": false
   },
   "outputs": [
    {
     "data": {
      "image/png": "[encoded data removed]",
      "text/plain": [
       "<Figure size 432x288 with 1 Axes>"
      ]
     },
     "metadata": {
      "needs_background": "light"
     },
     "output_type": "display_data"
    }
   ],
   "source": [
    "difference_mean_f=(np.mean(x_sf1, axis=1)-np.mean(x_sf0, axis=1))*10**5\n",
    "\n",
    "plt.scatter(infrastructure_id,difference_mean_f,s=100,c='r')\n",
    "plt.ylim(-25,90)\n",
    "\n",
    "plt.xlabel('Infrastructure ID',fontsize=14,fontweight='bold')\n",
    "plt.ylabel('Change in the mean of $x$ due to \\n uncertainty on $f$ ($10^{-5}$)',fontsize=14,fontweight='bold')\n",
    "plt.xticks(np.arange(1, 12, step=1),fontsize=12)\n",
    "plt.yticks(fontsize=12)\n",
    "plt.grid()\n",
    "# plt.legend(('$A$','$f$'),loc='best')\n",
    "plt.savefig(\"Change_mean_due_to_uncertain_f.pdf\",bbox_inches = \"tight\")\n",
    "\n",
    "plt.show()\n"
   ]
  },
  {
   "cell_type": "markdown",
   "metadata": {},
   "source": [
    "Variance due to uncertainty on $f$"
   ]
  },
  {
   "cell_type": "code",
   "execution_count": 26,
   "metadata": {},
   "outputs": [
    {
     "data": {
      "image/png": "[encoded data removed]",
      "text/plain": [
       "<Figure size 432x288 with 1 Axes>"
      ]
     },
     "metadata": {
      "needs_background": "light"
     },
     "output_type": "display_data"
    }
   ],
   "source": [
    "difference_var_f=np.var(x_sf1, axis=1)*10**4\n",
    "\n",
    "plt.scatter(infrastructure_id,difference_var_f,s=100,c='r')\n",
    "plt.ylim(-0.5,np.max(difference_var_f)*1.1)\n",
    "\n",
    "plt.xlabel('Infrastructure ID',fontsize=14,fontweight='bold')\n",
    "plt.ylabel('Variance of $x$ due to \\n uncertainty on $f$ ($10^{-4}$)',fontsize=14,fontweight='bold')\n",
    "plt.xticks(np.arange(1, 12, step=1),fontsize=12)\n",
    "plt.yticks(fontsize=12)\n",
    "plt.grid()\n",
    "# plt.legend(('$A$','$f$'),loc='best')\n",
    "plt.savefig(\"var_due_to_uncertain_f.pdf\",bbox_inches = \"tight\")\n",
    "\n",
    "plt.show()"
   ]
  },
  {
   "cell_type": "markdown",
   "metadata": {},
   "source": [
    "According to the change in the mean of $x$, infrastructure 6 an 10 are more sensitive to the uncertainty about $f$.\n"
   ]
  },
  {
   "cell_type": "markdown",
   "metadata": {},
   "source": [
    "### Compare the effect of uncertainty on $f$ and $A$ on $x$"
   ]
  },
  {
   "cell_type": "code",
   "execution_count": 27,
   "metadata": {},
   "outputs": [],
   "source": [
    "# density plot\n",
    "\n",
    "# for count_plot in range(mat_A.shape[0]):     \n",
    "# #     plt.boxplot(x_s1[count_plot,:],notch=True)\n",
    "# #     plt.plot(x_s0[count_plot,:])\n",
    "#     plt.title('Infrastructure number: %s'%(count_plot+1),fontsize=14,fontweight='bold')\n",
    "\n",
    "#     plt.hist(x_sf1[count_plot,:],normed=True)\n",
    "#     plt.show()"
   ]
  },
  {
   "cell_type": "markdown",
   "metadata": {},
   "source": [
    "### Compare the impact of uncertainty on $f$ and $A$ on $x$.\n",
    "Compare change in the mean of $x_i$"
   ]
  },
  {
   "cell_type": "code",
   "execution_count": 28,
   "metadata": {},
   "outputs": [
    {
     "data": {
      "image/png": "[encoded data removed]",
      "text/plain": [
       "<Figure size 432x288 with 1 Axes>"
      ]
     },
     "metadata": {
      "needs_background": "light"
     },
     "output_type": "display_data"
    }
   ],
   "source": [
    "difference_mean_A=(np.mean(x_A_s1, axis=1)-np.mean(x_A_s0, axis=1))*10**5\n",
    "difference_mean_f=(np.mean(x_sf1, axis=1)-np.mean(x_sf0, axis=1))*10**5\n",
    "\n",
    "plt.scatter(infrastructure_id,difference_mean_A,s=100,c='b')\n",
    "plt.scatter(infrastructure_id,difference_mean_f,s=100,c='r')\n",
    "# plt.ylim(np.min(np.abs(difference_mean_f))*1.05,np.max(difference_mean_f)*1.1)\n",
    "\n",
    "plt.xlabel('Infrastructure ID',fontsize=14,fontweight='bold')\n",
    "plt.ylabel('Change in the mean of $x$ \\n due to uncertainty ($10^{-5}$)',fontsize=14,fontweight='bold')\n",
    "plt.xticks(np.arange(1, 12, step=1),fontsize=12)\n",
    "plt.yticks(fontsize=12)\n",
    "plt.grid()\n",
    "plt.legend(('$A$','$f$'),loc='best')\n",
    "\n",
    "plt.savefig(\"Decrease_mean_due_to_uncertainty_A_f.pdf\",bbox_inches = \"tight\")\n",
    "\n",
    "plt.show()\n"
   ]
  },
  {
   "cell_type": "markdown",
   "metadata": {},
   "source": [
    "Compare the variance of $x_i$"
   ]
  },
  {
   "cell_type": "code",
   "execution_count": 29,
   "metadata": {
    "scrolled": true
   },
   "outputs": [
    {
     "data": {
      "image/png": "[encoded data removed]",
      "text/plain": [
       "<Figure size 432x288 with 1 Axes>"
      ]
     },
     "metadata": {
      "needs_background": "light"
     },
     "output_type": "display_data"
    }
   ],
   "source": [
    "difference_var_A=np.var(x_A_s1, axis=1)*10**4\n",
    "difference_var_f=np.var(x_sf1, axis=1)*10**4\n",
    "\n",
    "plt.scatter(infrastructure_id,difference_var_f,s=100,c='r')\n",
    "plt.scatter(infrastructure_id,difference_var_A,s=100,c='b')\n",
    "plt.ylim(-1,np.max(difference_var_f)*1.1)\n",
    "\n",
    "plt.xlabel('Infrastructure ID',fontsize=14,fontweight='bold')\n",
    "plt.ylabel('Variance of $x$ ($10^{-4}$)',fontsize=14,fontweight='bold')\n",
    "plt.xticks(np.arange(1, 12, step=1),fontsize=12)\n",
    "plt.yticks(fontsize=12)\n",
    "plt.grid()\n",
    "plt.legend(('$f$','$A$'),loc='best')\n",
    "plt.savefig(\"var_x_due_to_uncertainty_A_f.pdf\",bbox_inches = \"tight\")\n",
    "\n",
    "plt.show()"
   ]
  },
  {
   "cell_type": "markdown",
   "metadata": {},
   "source": [
    "### Q 2.18\n",
    "Following the analysis of the previous two questions, rerun the models using the lower\n",
    "bound of each uncertain parameter or input (i.e., one run with all parameters in A at the lower bound, and\n",
    "one run with f at the lower bound), and again with the upper bounds of each parameter or input. \n",
    "\n",
    "Compare the outputs with what you observed from the pervious questions. Explain what you find and comment\n",
    "generality of any properties you observe."
   ]
  },
  {
   "cell_type": "markdown",
   "metadata": {},
   "source": [
    "#### 2.18.1 Elements of $A$ at lower bound"
   ]
  },
  {
   "cell_type": "code",
   "execution_count": 30,
   "metadata": {
    "scrolled": true
   },
   "outputs": [],
   "source": [
    "def calculate_x_low_A(scaling_factor):\n",
    "# # creat empty matirx g that will be used to store the g vector in each realization of mc\n",
    "    n_sample=1  # number of samples from the uniform distribution of each x\n",
    "    mat_A=T_1\n",
    "\n",
    "    # Matrix S:\n",
    "    eye = np.identity(mat_A.shape[0])\n",
    "\n",
    "    # initialize matrix A and x\n",
    "    mat_A_mc=np.zeros((mat_A.shape[0],n_sample))\n",
    "    x_mc=np.zeros((mat_A.shape[0],n_sample))\n",
    "\n",
    "\n",
    "    for i_sample in range(n_sample):\n",
    "\n",
    "        # draw a sample of matrix A\n",
    "        mat_A_low=np.zeros((mat_A.shape[0],mat_A.shape[1]))\n",
    "        for i in range(mat_A.shape[0]):\n",
    "            for j in range(mat_A.shape[1]):\n",
    "#                 mean=mat_A[i][j]\n",
    "                  mat_A_low[i][j]=(1-scaling_factor)*mat_A[i][j]\n",
    "#                 high=(1+scaling_factor)*mean\n",
    "#                 mat_A_rand[i][j]=low\n",
    "\n",
    "        # solve for matrix s\n",
    "        test_mc = eye - mat_A_low\n",
    "        S_mc = np.linalg.inv(test_mc)\n",
    "\n",
    "        # compute x\n",
    "        x_mc[:,[i_sample]] = np.matmul(S_mc,f)\n",
    "    return x_mc\n",
    "# box plot of x to show the range of x_mc\n",
    "s0=0\n",
    "s1=0.1\n",
    "x_s0_low_A=calculate_x_low_A(s0)\n",
    "x_s1_low_A=calculate_x_low_A(s1)\n",
    "x_s1_up_A=calculate_x_low_A(-s1)"
   ]
  },
  {
   "cell_type": "code",
   "execution_count": 31,
   "metadata": {
    "scrolled": true
   },
   "outputs": [],
   "source": [
    "# results of x_low\n",
    "# print('x vector calculated based on all lelements in A at the lower bound:\\n', x_s1_low_A)\n",
    "diff_x_s_lowA=x_s1_low_A-x_s0_low_A \n",
    "diff_x_s_upA=x_s1_up_A-x_s0_low_A  \n",
    "# plt.scatter(infrastructure_id,diff_x_s_lowA)\n",
    "# plt.ylim(-np.max(np.abs(diff_x_s_lowA)),np.max(diff_x_s_lowA))\n",
    "# plt.show()\n",
    "# print(\"Difference between x after and before using the lower bound values in A\",diff_x_s1_lowA)"
   ]
  },
  {
   "cell_type": "markdown",
   "metadata": {},
   "source": [
    "Compare the $x$ obtained by using extreme values in $A$ and the minimum and maximum $x$ obtained by MC"
   ]
  },
  {
   "cell_type": "code",
   "execution_count": 71,
   "metadata": {},
   "outputs": [
    {
     "data": {
      "image/png": "[encoded data removed]",
      "text/plain": [
       "<Figure size 432x288 with 1 Axes>"
      ]
     },
     "metadata": {
      "needs_background": "light"
     },
     "output_type": "display_data"
    }
   ],
   "source": [
    "diff_x_min_low_MC_A=np.min(x_A_s1,axis=1)-x_s1_low_A.T\n",
    "diff_x_max_low_MC_A=np.max(x_A_s1,axis=1)-x_s1_up_A.T\n",
    "\n",
    "plt.scatter(infrastructure_id,diff_x_min_low_MC_A*1000,s=100,c='b')\n",
    "plt.scatter(infrastructure_id,diff_x_max_low_MC_A*1000,s=100,c='r')\n",
    "\n",
    "# plt.ylim(np.min(np.abs(difference_mean_f))*1.05,np.max(difference_mean_f)*1.1)\n",
    "\n",
    "plt.xlabel('Infrastructure ID',fontsize=14,fontweight='bold')\n",
    "plt.ylabel('Difference in $x$ ($10^{-3}$)',fontsize=14,fontweight='bold')\n",
    "plt.xticks(np.arange(1, 12, step=1),fontsize=12)\n",
    "plt.yticks(fontsize=12)\n",
    "plt.grid()\n",
    "plt.legend(('$Min$','$Max$'),loc='best')\n",
    "\n",
    "plt.savefig(\"Diff_min_max_A.pdf\",bbox_inches = \"tight\")\n",
    "\n",
    "plt.show()\n"
   ]
  },
  {
   "cell_type": "markdown",
   "metadata": {},
   "source": [
    "### 2.18.2 Elelments of $f$ at lower bound"
   ]
  },
  {
   "cell_type": "code",
   "execution_count": 32,
   "metadata": {},
   "outputs": [],
   "source": [
    "def calculate_x_low_f(scaling_factor):\n",
    "# # creat empty matirx g that will be used to store the g vector in each realization of mc\n",
    "    n_sample=1  # number of samples from the uniform distribution of each x\n",
    "    mat_A=T_1\n",
    "\n",
    "    # Matrix S:\n",
    "    eye = np.identity(mat_A.shape[0])\n",
    "\n",
    "    # initialize matrix f and x\n",
    "    f_low=np.zeros((mat_A.shape[0],1))\n",
    "    x_low_f=np.zeros((mat_A.shape[0],n_sample))\n",
    "    \n",
    "    for i_sample in range(n_sample):\n",
    "        # draw a sample of matrix f\n",
    "        for i in range(f_low.shape[0]):         \n",
    "            f_low[i]=(1-scaling_factor)*f[i]\n",
    "        # solve for matrix s\n",
    "        # compute x\n",
    "        x_low_f[:,[i_sample]] = np.matmul(S,f_low)\n",
    "    return x_low_f\n",
    "sf0=0\n",
    "sf1=0.1\n",
    "x_sf0_low=calculate_x_low_f(sf0)\n",
    "x_sf1_low=calculate_x_low_f(sf1)\n",
    "x_sf1_up=calculate_x_low_f(-sf1)"
   ]
  },
  {
   "cell_type": "code",
   "execution_count": 33,
   "metadata": {
    "scrolled": true
   },
   "outputs": [],
   "source": [
    "# results of x_low\n",
    "# print('x vector calculated based on all lelements in f at the lower bound:\\n', x_s1_low_A)\n",
    "diff_x_f_low=x_sf1_low-x_sf0_low\n",
    "diff_x_f_up=x_sf1_up-x_sf0_low"
   ]
  },
  {
   "cell_type": "markdown",
   "metadata": {},
   "source": [
    "### 2.18.3 Comparing the impact of lower bound values of $A$ and $f$"
   ]
  },
  {
   "cell_type": "code",
   "execution_count": 34,
   "metadata": {},
   "outputs": [
    {
     "data": {
      "image/png": "[encoded data removed]",
      "text/plain": [
       "<Figure size 432x288 with 1 Axes>"
      ]
     },
     "metadata": {
      "needs_background": "light"
     },
     "output_type": "display_data"
    }
   ],
   "source": [
    "plt.scatter(infrastructure_id,diff_x_s_lowA,s=100,c='b')\n",
    "plt.scatter(infrastructure_id,diff_x_f_low,s=100,c='r')\n",
    "plt.ylim(-np.max(np.abs(diff_x_f_low))*1.1,np.max(diff_x_f_low)*1.5+0.005)\n",
    "plt.xlabel('Infrastructure ID',fontsize=14,fontweight='bold')\n",
    "plt.ylabel('Decrease in $x$ after using the \\n lower bound values in $f$ and $A$',fontsize=14,fontweight='bold')\n",
    "plt.xticks(np.arange(1, 12, step=1),fontsize=12)\n",
    "plt.yticks(fontsize=12)\n",
    "plt.legend(('$A$','$f$'),loc='best')\n",
    "plt.grid()\n",
    "\n",
    "# print('Decrease in $x$ after using the \\n lower bound values in $f$',diff_x_s1_lowA)\n",
    "plt.savefig(\"Decrease_due_to_lower_bound.pdf\",bbox_inches = \"tight\")\n",
    "\n",
    "plt.show()"
   ]
  },
  {
   "cell_type": "markdown",
   "metadata": {},
   "source": [
    "From the last two figures, it can be observed that using lower bound values in $f$ leads to larger decrease in $x$"
   ]
  },
  {
   "cell_type": "markdown",
   "metadata": {},
   "source": [
    "### 2.18.4 Comparing the impact of upper bound values of $A$ and $f$"
   ]
  },
  {
   "cell_type": "code",
   "execution_count": 35,
   "metadata": {
    "scrolled": false
   },
   "outputs": [
    {
     "data": {
      "image/png": "[encoded data removed]",
      "text/plain": [
       "<Figure size 432x288 with 1 Axes>"
      ]
     },
     "metadata": {
      "needs_background": "light"
     },
     "output_type": "display_data"
    }
   ],
   "source": [
    "plt.scatter(infrastructure_id,diff_x_f_up,s=100,c='r')\n",
    "plt.scatter(infrastructure_id,diff_x_s_upA,s=100,c='b')\n",
    "plt.ylim(np.min(np.abs(diff_x_f_up))*0.8,np.max(diff_x_f_up)*1.1+0.005)\n",
    "plt.xlabel('Infrastructure ID',fontsize=14,fontweight='bold')\n",
    "plt.ylabel('Increase in $x$ after using the \\n upper bound values in $f$ and $A$',fontsize=14,fontweight='bold')\n",
    "plt.xticks(np.arange(1, 12, step=1),fontsize=12)\n",
    "plt.yticks(fontsize=12)\n",
    "plt.legend(('$f$','$A$'),loc='best')\n",
    "plt.grid()\n",
    "\n",
    "plt.savefig(\"Increase_due_to_lower_bound.pdf\",bbox_inches = \"tight\")\n",
    "\n",
    "plt.show()"
   ]
  },
  {
   "cell_type": "markdown",
   "metadata": {},
   "source": [
    "Compare the $x$ obtained by using extreme values in $f$ and the minimum and maximum $x$ obtained by MC"
   ]
  },
  {
   "cell_type": "code",
   "execution_count": 56,
   "metadata": {},
   "outputs": [
    {
     "data": {
      "text/plain": [
       "array([0.35268279, 0.09470956, 0.01556754, 0.01230926, 0.01107902,\n",
       "       0.47644564, 0.01467038, 0.06701746, 0.00521009, 0.20117754,\n",
       "       0.        ])"
      ]
     },
     "execution_count": 56,
     "metadata": {},
     "output_type": "execute_result"
    }
   ],
   "source": [
    "np.min(x_sf1,axis=1)"
   ]
  },
  {
   "cell_type": "code",
   "execution_count": 57,
   "metadata": {},
   "outputs": [
    {
     "data": {
      "text/plain": [
       "array([[0.35178293],\n",
       "       [0.09453282],\n",
       "       [0.0154568 ],\n",
       "       [0.01217751],\n",
       "       [0.01094419],\n",
       "       [0.47627574],\n",
       "       [0.01453396],\n",
       "       [0.06661512],\n",
       "       [0.00516053],\n",
       "       [0.20082422],\n",
       "       [0.        ]])"
      ]
     },
     "execution_count": 57,
     "metadata": {},
     "output_type": "execute_result"
    }
   ],
   "source": [
    "x_sf1_low"
   ]
  },
  {
   "cell_type": "code",
   "execution_count": 70,
   "metadata": {},
   "outputs": [
    {
     "data": {
      "image/png": "[encoded data removed]",
      "text/plain": [
       "<Figure size 432x288 with 1 Axes>"
      ]
     },
     "metadata": {
      "needs_background": "light"
     },
     "output_type": "display_data"
    }
   ],
   "source": [
    "diff_x_min_low_MC_f=np.min(x_sf1,axis=1)-x_sf1_low.T\n",
    "diff_x_max_low_MC_f=np.max(x_sf1,axis=1)-x_sf1_up.T\n",
    "\n",
    "plt.scatter(infrastructure_id,diff_x_min_low_MC_f*1000,s=100,c='b')\n",
    "plt.scatter(infrastructure_id,diff_x_max_low_MC_f*1000,s=100,c='r')\n",
    "\n",
    "# plt.ylim(np.min(np.abs(difference_mean_f))*1.05,np.max(difference_mean_f)*1.1)\n",
    "\n",
    "plt.xlabel('Infrastructure ID',fontsize=14,fontweight='bold')\n",
    "plt.ylabel('Difference in $x$ ($10^{-3}$)',fontsize=14,fontweight='bold')\n",
    "plt.xticks(np.arange(1, 12, step=1),fontsize=12)\n",
    "plt.yticks(fontsize=12)\n",
    "plt.grid()\n",
    "plt.legend(('$Min$','$Max$'),loc='best')\n",
    "\n",
    "plt.savefig(\"Diff_min_max_f.pdf\",bbox_inches = \"tight\")\n",
    "\n",
    "plt.show()"
   ]
  },
  {
   "cell_type": "markdown",
   "metadata": {},
   "source": [
    "### Q 2.19\n",
    "If the total level of degradation to air fuel & petroleum grid, TLC wireless, and finance\n",
    "cannot be greater than 20%, 30%, and 35%, respectively, what is the maximum initial impact fmax that the\n",
    "system can absorb? \n",
    "\n",
    "#### Numerical solution:"
   ]
  },
  {
   "cell_type": "code",
   "execution_count": 36,
   "metadata": {},
   "outputs": [],
   "source": [
    "from cvxopt import matrix\n",
    "from cvxopt import solvers\n",
    "import numpy as np"
   ]
  },
  {
   "cell_type": "code",
   "execution_count": 37,
   "metadata": {
    "scrolled": true
   },
   "outputs": [
    {
     "name": "stdout",
     "output_type": "stream",
     "text": [
      "A:\n",
      " [ 1.00e+00  0.00e+00  0.00e+00  0.00e+00  0.00e+00  0.00e+00  0.00e+00 ... ]\n",
      "[ 0.00e+00  1.00e+00  0.00e+00  0.00e+00  0.00e+00  0.00e+00  0.00e+00 ... ]\n",
      "[ 0.00e+00  0.00e+00  1.00e+00  0.00e+00  0.00e+00  0.00e+00  0.00e+00 ... ]\n",
      "[ 0.00e+00  0.00e+00  0.00e+00  1.00e+00  0.00e+00  0.00e+00  0.00e+00 ... ]\n",
      "[ 0.00e+00  0.00e+00  0.00e+00  0.00e+00  1.00e+00  0.00e+00  0.00e+00 ... ]\n",
      "[ 0.00e+00  0.00e+00  0.00e+00  0.00e+00  0.00e+00  1.00e+00  0.00e+00 ... ]\n",
      "[ 0.00e+00  0.00e+00  0.00e+00  0.00e+00  0.00e+00  0.00e+00  1.00e+00 ... ]\n",
      "[ 0.00e+00  0.00e+00  0.00e+00  0.00e+00  0.00e+00  0.00e+00  0.00e+00 ... ]\n",
      "[ 0.00e+00  0.00e+00  0.00e+00  0.00e+00  0.00e+00  0.00e+00  0.00e+00 ... ]\n",
      "[ 0.00e+00  0.00e+00  0.00e+00  0.00e+00  0.00e+00  0.00e+00  0.00e+00 ... ]\n",
      "[ 0.00e+00  0.00e+00  0.00e+00  0.00e+00  0.00e+00  0.00e+00  0.00e+00 ... ]\n",
      "[-1.00e+00 -0.00e+00 -0.00e+00 -0.00e+00 -0.00e+00 -0.00e+00 -0.00e+00 ... ]\n",
      "[-0.00e+00 -1.00e+00 -0.00e+00 -0.00e+00 -0.00e+00 -0.00e+00 -0.00e+00 ... ]\n",
      "[-0.00e+00 -0.00e+00 -1.00e+00 -0.00e+00 -0.00e+00 -0.00e+00 -0.00e+00 ... ]\n",
      "[-0.00e+00 -0.00e+00 -0.00e+00 -1.00e+00 -0.00e+00 -0.00e+00 -0.00e+00 ... ]\n",
      "[-0.00e+00 -0.00e+00 -0.00e+00 -0.00e+00 -1.00e+00 -0.00e+00 -0.00e+00 ... ]\n",
      "[-0.00e+00 -0.00e+00 -0.00e+00 -0.00e+00 -0.00e+00 -1.00e+00 -0.00e+00 ... ]\n",
      "[-0.00e+00 -0.00e+00 -0.00e+00 -0.00e+00 -0.00e+00 -0.00e+00 -1.00e+00 ... ]\n",
      "[-0.00e+00 -0.00e+00 -0.00e+00 -0.00e+00 -0.00e+00 -0.00e+00 -0.00e+00 ... ]\n",
      "[-0.00e+00 -0.00e+00 -0.00e+00 -0.00e+00 -0.00e+00 -0.00e+00 -0.00e+00 ... ]\n",
      "[-0.00e+00 -0.00e+00 -0.00e+00 -0.00e+00 -0.00e+00 -0.00e+00 -0.00e+00 ... ]\n",
      "[-0.00e+00 -0.00e+00 -0.00e+00 -0.00e+00 -0.00e+00 -0.00e+00 -0.00e+00 ... ]\n",
      "[-1.00e+00  1.34e-01  3.08e-01  4.56e-01  3.30e-02  2.40e-02  1.20e-02 ... ]\n",
      "[-3.55e-19 -1.00e+00  1.00e-02  2.30e-02  1.00e-03  3.00e-03 -1.30e-19 ... ]\n",
      "[ 2.00e-03  1.09e-01 -1.00e+00  1.20e-01  2.00e-03  5.00e-03  2.00e-03 ... ]\n",
      "[ 6.00e-03  8.30e-02  1.30e-02 -1.00e+00  4.00e-03  3.00e-03  4.00e-03 ... ]\n",
      "[ 5.00e-03  5.00e-02  9.00e-03  2.00e-02 -1.00e+00  5.00e-03  8.00e-03 ... ]\n",
      "[ 1.00e-03  2.33e-01  1.04e-01  1.09e-01  5.00e-03 -1.00e+00  7.00e-03 ... ]\n",
      "[ 3.00e-03  1.00e-01  3.00e-02  1.00e-01  7.00e-03  3.00e-03 -1.00e+00 ... ]\n",
      "[ 8.00e-03  5.00e-01  1.00e-01  5.00e-02  5.00e-02  2.00e-02  2.00e-02 ... ]\n",
      "[ 2.00e-03  3.00e-02  9.00e-03  5.00e-03  5.00e-03 -3.89e-20  2.00e-03 ... ]\n",
      "[ 5.00e-03  3.00e-02  2.00e-02  2.00e-02  3.00e-02  3.00e-02  2.00e-02 ... ]\n",
      "[-0.00e+00 -0.00e+00 -0.00e+00 -0.00e+00 -0.00e+00 -0.00e+00 -0.00e+00 ... ]\n",
      "\n",
      "b:\n",
      " [ 1.00e+00]\n",
      "[ 1.00e+00]\n",
      "[ 3.00e-01]\n",
      "[ 1.00e+00]\n",
      "[ 1.00e+00]\n",
      "[ 1.00e+00]\n",
      "[ 3.50e-01]\n",
      "[ 2.00e-01]\n",
      "[ 1.00e+00]\n",
      "[ 1.00e+00]\n",
      "[ 1.00e+00]\n",
      "[ 0.00e+00]\n",
      "[ 0.00e+00]\n",
      "[ 0.00e+00]\n",
      "[ 0.00e+00]\n",
      "[ 0.00e+00]\n",
      "[ 0.00e+00]\n",
      "[ 0.00e+00]\n",
      "[ 0.00e+00]\n",
      "[ 0.00e+00]\n",
      "[ 0.00e+00]\n",
      "[ 0.00e+00]\n",
      "[ 0.00e+00]\n",
      "[ 0.00e+00]\n",
      "[ 0.00e+00]\n",
      "[ 0.00e+00]\n",
      "[ 0.00e+00]\n",
      "[ 0.00e+00]\n",
      "[ 0.00e+00]\n",
      "[ 0.00e+00]\n",
      "[ 0.00e+00]\n",
      "[ 0.00e+00]\n",
      "[ 0.00e+00]\n",
      "\n",
      "c:\n",
      " [ 3.09e-01]\n",
      "[-7.71e-01]\n",
      "[-7.45e-01]\n",
      "[-8.75e-01]\n",
      "[-8.62e-01]\n",
      "[-5.28e-01]\n",
      "[-7.36e-01]\n",
      "[-2.24e-01]\n",
      "[-9.32e-01]\n",
      "[-8.10e-01]\n",
      "[-1.00e+00]\n",
      "\n"
     ]
    }
   ],
   "source": [
    "# online example of using cvxopt for a LP problem: https://cvxopt.org/examples/tutorial/lp.html\n",
    "\n",
    "# objective: min. c^T*X\n",
    "# s.t. Ax<=b and x >=0\n",
    "\n",
    "#----------------------------------------------\n",
    "# objective func: f_max. f_max=sum(f_vector)\n",
    "# f=inv(S)*X\n",
    "# denote inv(S) by IS\n",
    "# f_sum=f_1+f_2+...+f_n= (IS_11+IS_21+...+IS_n1)*x_n+...+(IS_n1+IS_n2+...+IS_nn)*x_n\n",
    "\n",
    "# c matrix!\n",
    "S_inv=np.linalg.inv(S)\n",
    "c=S_inv.sum(axis=1, dtype=np.float)\n",
    "c=-c  # max to min\n",
    "\n",
    "#-------------------------------------------------\n",
    "# constraints: # x_8<=0.2, x_3<=0.3, x_7<=0.35\n",
    "\n",
    "# 1*x3+ 0* x7+0*x8<=0.3\n",
    "# 0*x3+ 1* x7+0*x8<=0.35\n",
    "# 0*x3+ 0* x7+1*x8<=0.20\n",
    "# x_i<=1， if i is not in {3,7,8}\n",
    "\n",
    "n_x=11\n",
    "# n_const=n_x\n",
    "\n",
    "# A=np.zeros((n_const,n_x),dtype=np.float) # each row of A represents a contraint\n",
    "# A[0,0]=1\n",
    "# A[1,6]=1\n",
    "# A[2,7]=1\n",
    "# for i in range(11):\n",
    "#     j=i+3\n",
    "#     A[j,i]=-1\n",
    "# # A=A.T\n",
    "\n",
    "A_up=np.eye(n_x)\n",
    "A_down=-np.eye(n_x)\n",
    "A=np.concatenate((A_up, A_down,-S_inv), axis=0)\n",
    "\n",
    "b_x_up=np.array([1,1,0.3,1,1,1,0.35,0.2,1,1,1], dtype=np.float)\n",
    "b_x_down=np.zeros(n_x, dtype=float)\n",
    "b_f=np.zeros(n_x, dtype=float)\n",
    "b=np.concatenate((b_x_up,b_x_down,b_f))\n",
    "\n",
    "# construct A, B, C matrices first as numpy arrays\n",
    "# values need to be floats, or array needs to be specified as data type float (dtype=np.float)\n",
    "# A = np.array([[4, 5, 1, -1, 0], [6, 3, 1, 0, -1]], dtype=np.float)\n",
    "\n",
    "# A = A.T # transpose A so it is a tall skinny matrix\n",
    "# b = np.array([22, 15, 6, 0, 0], dtype=np.float)\n",
    "# c = np.array([-10, -12], dtype=np.float)\n",
    "\n",
    "Amatrix = matrix(A)\n",
    "print(\"A:\\n\", Amatrix)\n",
    "# b and c matrices do not need to be transposed because they are vectors (single [ ], not nested)\n",
    "#  and interpreted flexibly as either row or column vectors\n",
    "# -- if you put nested brackets around b values and re-evaluate, notice that the program will break\n",
    "bmatrix = matrix(b)\n",
    "print(\"b:\\n\", bmatrix)\n",
    "cmatrix = matrix(c)\n",
    "print(\"c:\\n\", cmatrix)"
   ]
  },
  {
   "cell_type": "code",
   "execution_count": 38,
   "metadata": {},
   "outputs": [
    {
     "name": "stdout",
     "output_type": "stream",
     "text": [
      "our solution is: optimal\n"
     ]
    }
   ],
   "source": [
    "solSimplex = solvers.lp(cmatrix,Amatrix,bmatrix, solver='glpk')#simplex solver\n",
    "print('our solution is:',solSimplex['status'])"
   ]
  },
  {
   "cell_type": "code",
   "execution_count": 39,
   "metadata": {},
   "outputs": [
    {
     "name": "stdout",
     "output_type": "stream",
     "text": [
      "Summary of solution:\n"
     ]
    },
    {
     "data": {
      "text/plain": [
       "{'status': 'optimal',\n",
       " 'x': <11x1 matrix, tc='d'>,\n",
       " 's': <33x1 matrix, tc='d'>,\n",
       " 'y': <0x1 matrix, tc='d'>,\n",
       " 'z': <33x1 matrix, tc='d'>,\n",
       " 'primal objective': -4.364209317841036,\n",
       " 'dual objective': -4.364209317841019,\n",
       " 'gap': -4.4880377902342844e-15,\n",
       " 'relative gap': -1.0283736327419112e-15,\n",
       " 'primal infeasibility': 0.0,\n",
       " 'dual infeasibility': 9.642609165724476e-15,\n",
       " 'primal slack': -6.661338147750939e-16,\n",
       " 'dual slack': -0.0,\n",
       " 'residual as primal infeasibility certificate': None,\n",
       " 'residual as dual infeasibility certificate': None}"
      ]
     },
     "execution_count": 39,
     "metadata": {},
     "output_type": "execute_result"
    }
   ],
   "source": [
    "print('Summary of solution:')\n",
    "solSimplex"
   ]
  },
  {
   "cell_type": "code",
   "execution_count": 40,
   "metadata": {},
   "outputs": [
    {
     "name": "stdout",
     "output_type": "stream",
     "text": [
      "optimal x=:\n",
      " [ 4.36e-01]\n",
      "[ 1.71e-01]\n",
      "[ 4.44e-02]\n",
      "[ 3.64e-02]\n",
      "[ 1.00e+00]\n",
      "[ 1.00e+00]\n",
      "[ 3.50e-01]\n",
      "[ 2.00e-01]\n",
      "[ 8.59e-01]\n",
      "[ 1.00e+00]\n",
      "[ 1.00e+00]\n",
      "\n",
      "objective function at optimality:\n",
      " -4.364209317841036\n",
      "constraint satisfied at equality at optimality:\n",
      " [[False]\n",
      " [False]\n",
      " [False]\n",
      " [False]\n",
      " [ True]\n",
      " [False]\n",
      " [ True]\n",
      " [False]\n",
      " [False]\n",
      " [False]\n",
      " [ True]\n",
      " [False]\n",
      " [False]\n",
      " [False]\n",
      " [False]\n",
      " [False]\n",
      " [False]\n",
      " [False]\n",
      " [False]\n",
      " [False]\n",
      " [False]\n",
      " [False]\n",
      " [ True]\n",
      " [False]\n",
      " [False]\n",
      " [False]\n",
      " [False]\n",
      " [False]\n",
      " [False]\n",
      " [False]\n",
      " [False]\n",
      " [False]\n",
      " [False]]\n"
     ]
    }
   ],
   "source": [
    "# extract the solution x-values\n",
    "#xConeLP = solConeLP['x']\n",
    "xSimplex = solSimplex['x']#our x values at optimality\n",
    "#print(xConeLP)\n",
    "print('optimal x=:\\n',xSimplex)\n",
    "\n",
    "#our cost functiion at optimality\n",
    "print('objective function at optimality:\\n',solSimplex['primal objective'])\n",
    "#Note that the cost we are after was actually a maximization problem, we converted it to a minimum problem to run the solver\n",
    "#the true benefit is -solSimplex['primal objective']\n",
    "#print(\"dif=:\",xSimplex-xConeLP)\n",
    "\n",
    "#recast everything back to numpy\n",
    "\n",
    "x=np.array(xSimplex)\n",
    "\n",
    "A=np.array(Amatrix)\n",
    "b=np.array(bmatrix)\n",
    "\n",
    "#verify the feasibility of the point\n",
    "print('constraint satisfied at equality at optimality:\\n',A.dot(x)-b==0)"
   ]
  },
  {
   "cell_type": "code",
   "execution_count": 41,
   "metadata": {},
   "outputs": [
    {
     "name": "stdout",
     "output_type": "stream",
     "text": [
      "[[ 5.55111512e-17]\n",
      " [-3.72965547e-17]\n",
      " [-2.98372438e-16]\n",
      " [-8.32667268e-17]\n",
      " [ 9.46898124e-01]\n",
      " [ 9.35747152e-01]\n",
      " [ 2.99061380e-01]\n",
      " [ 3.60822483e-16]\n",
      " [ 8.35339364e-01]\n",
      " [ 8.99917139e-01]\n",
      " [ 1.00000000e+00]]\n",
      "4.916963159475481\n"
     ]
    }
   ],
   "source": [
    "S_inv=np.linalg.inv(S)\n",
    "f_opt=np.dot(S_inv,x)\n",
    "print(f_opt)\n",
    "print(np.sum(f_opt))"
   ]
  },
  {
   "cell_type": "markdown",
   "metadata": {},
   "source": [
    "### Then end of part I"
   ]
  }
 ],
 "metadata": {
  "kernelspec": {
   "display_name": "Python 3",
   "language": "python",
   "name": "python3"
  },
  "language_info": {
   "codemirror_mode": {
    "name": "ipython",
    "version": 3
   },
   "file_extension": ".py",
   "mimetype": "text/x-python",
   "name": "python",
   "nbconvert_exporter": "python",
   "pygments_lexer": "ipython3",
   "version": "3.7.0"
  }
 },
 "nbformat": 4,
 "nbformat_minor": 2
}
