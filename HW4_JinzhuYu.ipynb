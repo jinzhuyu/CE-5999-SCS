{
 "cells": [
  {
   "cell_type": "markdown",
   "metadata": {},
   "source": [
    "# CE 5999 HW 4: Process–based LCA and uncertainty\n",
    "# Due: Thursday 10/26/18\n",
    "\n",
    "## Jin-Zhu Yu"
   ]
  },
  {
   "cell_type": "markdown",
   "metadata": {},
   "source": [
    "##  2.1 Mathematical modeling of process based LCA\n"
   ]
  },
  {
   "cell_type": "markdown",
   "metadata": {},
   "source": [
    "### Q 2.1\n",
    "$f= \\left[ {\\begin{array}{*{20}{c}}\n",
    "1\\\\\n",
    "0\\\\\n",
    "0\\\\\n",
    "0\\\\\n",
    "0\\\\\n",
    "0\\\\\n",
    "0\\\\\n",
    "0\\\\\n",
    "0\\\\\n",
    "0\\\\\n",
    "0\\\\\n",
    "0\\\\\n",
    "0\\\\\n",
    "0\\\\\n",
    "0\\\\\n",
    "0\\\\\n",
    "0\\\\\n",
    "0\n",
    "\\end{array}} \\right]$"
   ]
  },
  {
   "cell_type": "code",
   "execution_count": 1,
   "metadata": {},
   "outputs": [],
   "source": [
    "import numpy as np\n",
    "\n",
    "#f\n",
    "mat_f=np.array([[1,0,0,0,0,0,0,0,0,0,0,0,0,0,0,0,0,0]])\n",
    "mat_f=mat_f.T\n",
    "# print(mat_f)\n",
    "# print('Shape of f: ',mat_f.shape)"
   ]
  },
  {
   "cell_type": "markdown",
   "metadata": {},
   "source": [
    "### Q 2.2 "
   ]
  },
  {
   "cell_type": "code",
   "execution_count": 2,
   "metadata": {
    "scrolled": true
   },
   "outputs": [
    {
     "name": "stdout",
     "output_type": "stream",
     "text": [
      "A= [[  1.00000000e+00   0.00000000e+00   0.00000000e+00   0.00000000e+00\n",
      "    0.00000000e+00   0.00000000e+00   0.00000000e+00   0.00000000e+00\n",
      "    0.00000000e+00   0.00000000e+00   0.00000000e+00   0.00000000e+00\n",
      "    0.00000000e+00   0.00000000e+00   0.00000000e+00   0.00000000e+00\n",
      "    0.00000000e+00   0.00000000e+00]\n",
      " [ -4.55000000e+03   1.00000000e+00   0.00000000e+00   0.00000000e+00\n",
      "    0.00000000e+00   0.00000000e+00   0.00000000e+00   0.00000000e+00\n",
      "    0.00000000e+00   0.00000000e+00   0.00000000e+00   0.00000000e+00\n",
      "    0.00000000e+00   0.00000000e+00   0.00000000e+00   0.00000000e+00\n",
      "    0.00000000e+00   0.00000000e+00]\n",
      " [ -6.88000000e+02   0.00000000e+00   1.00000000e+00   0.00000000e+00\n",
      "    0.00000000e+00   0.00000000e+00   0.00000000e+00   0.00000000e+00\n",
      "    0.00000000e+00   0.00000000e+00   0.00000000e+00   0.00000000e+00\n",
      "    0.00000000e+00   0.00000000e+00   0.00000000e+00   0.00000000e+00\n",
      "    0.00000000e+00  -2.00000000e-02]\n",
      " [ -1.66500000e+03   0.00000000e+00   0.00000000e+00   1.00000000e+00\n",
      "    0.00000000e+00   0.00000000e+00   0.00000000e+00   0.00000000e+00\n",
      "    0.00000000e+00   0.00000000e+00   0.00000000e+00   0.00000000e+00\n",
      "    0.00000000e+00   0.00000000e+00   0.00000000e+00   0.00000000e+00\n",
      "    0.00000000e+00   0.00000000e+00]\n",
      " [ -1.05000000e+02   0.00000000e+00   0.00000000e+00   0.00000000e+00\n",
      "    1.00000000e+00   0.00000000e+00   0.00000000e+00   0.00000000e+00\n",
      "    0.00000000e+00   0.00000000e+00   0.00000000e+00   0.00000000e+00\n",
      "    0.00000000e+00   0.00000000e+00   0.00000000e+00   0.00000000e+00\n",
      "    0.00000000e+00   0.00000000e+00]\n",
      " [  0.00000000e+00  -6.20000000e-01   0.00000000e+00   0.00000000e+00\n",
      "    0.00000000e+00   1.00000000e+00   0.00000000e+00   0.00000000e+00\n",
      "    0.00000000e+00   0.00000000e+00   0.00000000e+00   0.00000000e+00\n",
      "    0.00000000e+00   0.00000000e+00   0.00000000e+00   0.00000000e+00\n",
      "    0.00000000e+00   0.00000000e+00]\n",
      " [ -5.04000000e+02   0.00000000e+00   0.00000000e+00   0.00000000e+00\n",
      "    0.00000000e+00  -8.60000000e-01   1.00000000e+00  -5.20000000e-01\n",
      "    0.00000000e+00   0.00000000e+00   0.00000000e+00   0.00000000e+00\n",
      "    0.00000000e+00   0.00000000e+00   0.00000000e+00   0.00000000e+00\n",
      "    0.00000000e+00   0.00000000e+00]\n",
      " [  0.00000000e+00   0.00000000e+00  -6.80000000e-01   0.00000000e+00\n",
      "    0.00000000e+00   0.00000000e+00   0.00000000e+00   1.00000000e+00\n",
      "    0.00000000e+00   0.00000000e+00   0.00000000e+00   0.00000000e+00\n",
      "    0.00000000e+00   0.00000000e+00   0.00000000e+00   0.00000000e+00\n",
      "    0.00000000e+00   0.00000000e+00]\n",
      " [  0.00000000e+00   0.00000000e+00   0.00000000e+00   0.00000000e+00\n",
      "    0.00000000e+00  -5.00000000e-03   0.00000000e+00  -3.10000000e-01\n",
      "    1.00000000e+00   0.00000000e+00   0.00000000e+00   0.00000000e+00\n",
      "    0.00000000e+00   0.00000000e+00   0.00000000e+00   0.00000000e+00\n",
      "    0.00000000e+00   0.00000000e+00]\n",
      " [  0.00000000e+00   0.00000000e+00   0.00000000e+00   0.00000000e+00\n",
      "    0.00000000e+00   0.00000000e+00   0.00000000e+00   0.00000000e+00\n",
      "   -1.02000000e+00   1.00000000e+00   0.00000000e+00   0.00000000e+00\n",
      "    0.00000000e+00   0.00000000e+00   0.00000000e+00   0.00000000e+00\n",
      "   -1.54000000e-01   0.00000000e+00]\n",
      " [  0.00000000e+00   0.00000000e+00   0.00000000e+00   0.00000000e+00\n",
      "    0.00000000e+00   0.00000000e+00   0.00000000e+00   0.00000000e+00\n",
      "    0.00000000e+00  -1.03000000e+00   1.00000000e+00   0.00000000e+00\n",
      "    0.00000000e+00   0.00000000e+00   0.00000000e+00   0.00000000e+00\n",
      "    0.00000000e+00   0.00000000e+00]\n",
      " [  0.00000000e+00   0.00000000e+00   0.00000000e+00  -6.70000000e-01\n",
      "    0.00000000e+00   0.00000000e+00   0.00000000e+00   0.00000000e+00\n",
      "    0.00000000e+00   0.00000000e+00   0.00000000e+00   1.00000000e+00\n",
      "    0.00000000e+00   0.00000000e+00   0.00000000e+00   0.00000000e+00\n",
      "    0.00000000e+00   0.00000000e+00]\n",
      " [  0.00000000e+00   0.00000000e+00   0.00000000e+00   0.00000000e+00\n",
      "    0.00000000e+00   0.00000000e+00   0.00000000e+00   0.00000000e+00\n",
      "    0.00000000e+00   0.00000000e+00   0.00000000e+00  -1.00000000e+00\n",
      "    1.00000000e+00   0.00000000e+00   0.00000000e+00   0.00000000e+00\n",
      "    0.00000000e+00   0.00000000e+00]\n",
      " [  0.00000000e+00   0.00000000e+00   0.00000000e+00   0.00000000e+00\n",
      "    0.00000000e+00   0.00000000e+00   0.00000000e+00   0.00000000e+00\n",
      "    0.00000000e+00   0.00000000e+00   0.00000000e+00  -1.54900000e+01\n",
      "   -1.40000000e-02   1.00000000e+00   0.00000000e+00   0.00000000e+00\n",
      "    0.00000000e+00   0.00000000e+00]\n",
      " [  0.00000000e+00   0.00000000e+00   0.00000000e+00   0.00000000e+00\n",
      "    0.00000000e+00   0.00000000e+00   0.00000000e+00   0.00000000e+00\n",
      "    0.00000000e+00   0.00000000e+00   0.00000000e+00   0.00000000e+00\n",
      "   -1.91000000e+00   0.00000000e+00   1.00000000e+00   0.00000000e+00\n",
      "    0.00000000e+00   0.00000000e+00]\n",
      " [  0.00000000e+00   0.00000000e+00   0.00000000e+00   0.00000000e+00\n",
      "    0.00000000e+00   0.00000000e+00   0.00000000e+00   0.00000000e+00\n",
      "    0.00000000e+00   0.00000000e+00   0.00000000e+00   0.00000000e+00\n",
      "    0.00000000e+00   0.00000000e+00  -1.52000000e+00   1.00000000e+00\n",
      "    0.00000000e+00   0.00000000e+00]\n",
      " [  0.00000000e+00   0.00000000e+00   0.00000000e+00   0.00000000e+00\n",
      "   -1.68000000e-01   0.00000000e+00   0.00000000e+00   0.00000000e+00\n",
      "    0.00000000e+00   0.00000000e+00   0.00000000e+00   0.00000000e+00\n",
      "    0.00000000e+00   0.00000000e+00   0.00000000e+00   0.00000000e+00\n",
      "    1.00000000e+00   0.00000000e+00]\n",
      " [  0.00000000e+00   0.00000000e+00   0.00000000e+00   0.00000000e+00\n",
      "   -1.89000000e-01   0.00000000e+00   0.00000000e+00   0.00000000e+00\n",
      "    0.00000000e+00   0.00000000e+00   0.00000000e+00   0.00000000e+00\n",
      "    0.00000000e+00   0.00000000e+00   0.00000000e+00   0.00000000e+00\n",
      "   -2.70000000e+00   1.00000000e+00]]\n",
      "Rank of A:  18\n"
     ]
    }
   ],
   "source": [
    "import pandas as pd\n",
    "import numpy as np\n",
    "\n",
    "# matrix A \n",
    "\n",
    "mat_A0=np.array([[1,\t4550,\t688,\t1665,\t105,\t0,\t504,\t0,\t0,\t0,\t0,\t0,\t0,\t0,\t0,\t0,\t0,\t0]\n",
    ",[-4550,\t0,\t0,\t0,\t0,\t0.62,\t0,\t0.68,\t0,\t0,\t0,\t0,\t0,\t0,\t0,\t0,\t0,\t0]\n",
    ",[-688,\t0,\t0,\t0,\t0,\t0,\t0,\t0,\t0,\t0,\t0,\t0.67,\t0,\t0,\t0,\t0,\t0,\t-0.02]\n",
    ",[-1665,\t0,\t0,\t0,\t0,\t0,\t0,\t0,\t0,\t0,\t0,\t0,\t0,\t0,\t0,\t0,\t0,\t0]\n",
    ",[-105,\t0,\t0,\t0,\t0,\t0,\t0,\t0,\t0,\t0,\t0,\t0,\t0,\t0,\t0,\t0,\t0.168,\t0.189]\n",
    ",[0,\t-0.62,\t0,\t0,\t0,\t0,\t0.86,\t0,\t0.005,\t0,\t0,\t0,\t0,\t0,\t0,\t0,\t0,\t0]\n",
    ",[-504,\t0,\t0,\t0,\t0,\t-0.86,\t0,\t-0.52,\t0,\t0,\t0,\t0,\t0,\t0,\t0,\t0,\t0,\t0]\n",
    ",[0,\t0,\t-0.68,\t0,\t0,\t0,\t0.52,\t0,\t0.31,\t0,\t0,\t0,\t0,\t0,\t0,\t0,\t0,\t0]\n",
    ",[0,\t0,\t0,\t0,\t0,\t-0.005,\t0,\t-0.31,\t0,\t1.02,\t0,\t0,\t0,\t0,\t0,\t0,\t0,\t0]\n",
    ",[0,\t0,\t0,\t0,\t0,\t0,\t0,\t0,\t-1.02,\t0,\t1.03,\t0,\t0,\t0,\t0,\t0,\t-0.154,\t0]\n",
    ",[0,\t0,\t0,\t0,\t0,\t0,\t0,\t0,\t0,\t-1.03,\t0,\t0,\t0,\t0,\t0,\t0,\t0,\t0]\n",
    ",[0,\t0,\t0,\t-0.67,\t0,\t0,\t0,\t0,\t0,\t0,\t0,\t0,\t1,\t15.49,\t0,\t0,\t0,\t0]\n",
    ",[0,\t0,\t0,\t0,\t0,\t0,\t0,\t0,\t0,\t0,\t0,\t-1,\t0,\t0.014,\t1.91,\t0,\t0,\t0]\n",
    ",[0,\t0,\t0,\t0,\t0,\t0,\t0,\t0,\t0,\t0,\t0,\t-15.49,\t-0.014,\t0,\t0,\t0,\t0,\t0]\n",
    ",[0,\t0,\t0,\t0,\t0,\t0,\t0,\t0,\t0,\t0,\t0,\t0,\t-1.91,\t0,\t0,\t1.52,\t0,\t0]\n",
    ",[0,\t0,\t0,\t0,\t0,\t0,\t0,\t0,\t0,\t0,\t0,\t0,\t0,\t0,\t-1.52,\t0,\t0,\t0]\n",
    ",[0,\t0,\t0,\t0,\t-0.168,\t0,\t0,\t0,\t0,\t0.154,\t0,\t0,\t0,\t0,\t0,\t0,\t0,\t2.7]\n",
    ",[0,\t0,\t0.02,\t0,\t-0.189,\t0,\t0,\t0,\t0,\t0,\t0,\t0,\t0,\t0,\t0,\t0,\t-2.7,\t0]])\n",
    "\n",
    "# revision of matrix A\n",
    "# the output of each process should be 1\n",
    "\n",
    "mat_A0[mat_A0>0]=0\n",
    "mat_A=mat_A0+np.eye(mat_A0.shape[1])\n",
    "\n",
    "## rank of A\n",
    "A_rank=np.linalg.matrix_rank(mat_A)\n",
    "\n",
    "print('A=',mat_A)\n",
    "print('Rank of A: ',A_rank)\n",
    "\n",
    "\n",
    "# save A\n",
    "np.save('matrixA.npy',mat_A)\n"
   ]
  },
  {
   "cell_type": "markdown",
   "metadata": {},
   "source": [
    "#### the inverse command is: my_array = np.load(filename)"
   ]
  },
  {
   "cell_type": "code",
   "execution_count": 3,
   "metadata": {},
   "outputs": [],
   "source": [
    "# np.load('matrixA.npy')"
   ]
  },
  {
   "cell_type": "markdown",
   "metadata": {},
   "source": [
    "### Q2.3"
   ]
  },
  {
   "cell_type": "code",
   "execution_count": 4,
   "metadata": {
    "scrolled": false
   },
   "outputs": [
    {
     "name": "stdout",
     "output_type": "stream",
     "text": [
      "s= [[  1.00000000e+00]\n",
      " [  4.55000000e+03]\n",
      " [  6.89349460e+02]\n",
      " [  1.66500000e+03]\n",
      " [  1.05000000e+02]\n",
      " [  2.82100000e+03]\n",
      " [  3.17381397e+03]\n",
      " [  4.68757633e+02]\n",
      " [  1.59419866e+02]\n",
      " [  1.65324823e+02]\n",
      " [  1.70284568e+02]\n",
      " [  1.11555000e+03]\n",
      " [  1.11555000e+03]\n",
      " [  1.72954872e+04]\n",
      " [  2.13070050e+03]\n",
      " [  3.23866476e+03]\n",
      " [  1.76400000e+01]\n",
      " [  6.74730000e+01]]\n"
     ]
    }
   ],
   "source": [
    "# As=f\n",
    "mat_s=np.linalg.solve(mat_A,mat_f)\n",
    "\n",
    "print('s=',mat_s)\n",
    "\n",
    "# num_cut=10\n",
    "# # num_total=18\n",
    "# # process_num=np.arange(0,num_total,1)\n",
    "# # process_cut=process_num[np.arange(len(process_num))!=num_cut]\n",
    "# # print(process_cut)\n",
    "# mat_A_cut=np.delete(mat_A,num_cut,0)\n",
    "# mat_A_cut=np.delete(mat_A_cut,num_cut,1)\n",
    "# # print(mat_A_cut.shape)\n",
    "\n",
    "# # f_cut\n",
    "# mat_f_cut=np.delete(mat_f,num_cut,0)\n",
    "# # # print(mat_f_cut.shape)\n",
    "# # mat_f_cut=np.array([[1,0,0,0,0,0,0,0,0,0,0,0,0,0,0,0,0]]).T\n",
    "\n",
    "# # solve for s\n",
    "# mat_s_cut=np.linalg.solve(mat_A_cut,mat_f_cut)\n",
    "# print(mat_s_cut)\n",
    "# # print(mat_s_cut.shape)"
   ]
  },
  {
   "cell_type": "markdown",
   "metadata": {},
   "source": [
    "### Q 2.4 "
   ]
  },
  {
   "cell_type": "markdown",
   "metadata": {},
   "source": [
    "Ideally, in constructing the environmental interventions matrix, all the outputs that can cause the three types of environmental impact should be selected. But due to time constraint, only six outputs that contribute to Warming Potential(Carbon dioxide and\n",
    "Methane), Eutriphication(Nitrogen oxides), and Smog(Particulates) are picked out for use in creating matrix $B$. A comphehensive and more accurate assessment can be done follwoing the same procedure given a sufficient amount of time."
   ]
  },
  {
   "cell_type": "code",
   "execution_count": 5,
   "metadata": {},
   "outputs": [
    {
     "name": "stdout",
     "output_type": "stream",
     "text": [
      "Mattrix B:\n",
      " [[  6.33000000e+02   0.00000000e+00   0.00000000e+00   0.00000000e+00\n",
      "    0.00000000e+00   7.56000000e-02   8.49080000e-01   7.56000000e-02\n",
      "    2.06480000e-01   0.00000000e+00   0.00000000e+00   0.00000000e+00\n",
      "    1.49650000e+00   0.00000000e+00   0.00000000e+00   0.00000000e+00\n",
      "    9.07000000e-02   1.90320000e-02]\n",
      " [  1.65000000e-02   0.00000000e+00   0.00000000e+00   0.00000000e+00\n",
      "    0.00000000e+00   0.00000000e+00   0.00000000e+00   0.00000000e+00\n",
      "    0.00000000e+00   0.00000000e+00   0.00000000e+00   0.00000000e+00\n",
      "    0.00000000e+00   0.00000000e+00   0.00000000e+00   0.00000000e+00\n",
      "    0.00000000e+00   0.00000000e+00]\n",
      " [  2.54000000e-01   0.00000000e+00   0.00000000e+00   0.00000000e+00\n",
      "    0.00000000e+00   4.75000000e-05   2.87230000e-05   4.75000000e-05\n",
      "    5.14100000e-03   0.00000000e+00   0.00000000e+00   0.00000000e+00\n",
      "    2.60740000e-03   0.00000000e+00   0.00000000e+00   0.00000000e+00\n",
      "    4.19000000e-07   7.61280000e-03]\n",
      " [  0.00000000e+00   0.00000000e+00   0.00000000e+00   0.00000000e+00\n",
      "    0.00000000e+00   0.00000000e+00   1.59570000e-06   0.00000000e+00\n",
      "    7.46880000e-04   0.00000000e+00   0.00000000e+00   0.00000000e+00\n",
      "    0.00000000e+00   0.00000000e+00   0.00000000e+00   0.00000000e+00\n",
      "    8.38000000e-05   7.35900000e-04]\n",
      " [  0.00000000e+00   0.00000000e+00   0.00000000e+00   0.00000000e+00\n",
      "    0.00000000e+00   0.00000000e+00   1.59570000e-06   0.00000000e+00\n",
      "    0.00000000e+00   0.00000000e+00   0.00000000e+00   0.00000000e+00\n",
      "    0.00000000e+00   0.00000000e+00   0.00000000e+00   0.00000000e+00\n",
      "    2.51000000e-04   6.61730000e-03]\n",
      " [  6.00000000e+00   0.00000000e+00   0.00000000e+00   0.00000000e+00\n",
      "    0.00000000e+00   1.25000000e-05   7.97870000e-05   1.25000000e-05\n",
      "    0.00000000e+00   0.00000000e+00   0.00000000e+00   0.00000000e+00\n",
      "    6.39360000e-05   0.00000000e+00   0.00000000e+00   0.00000000e+00\n",
      "    0.00000000e+00   0.00000000e+00]]\n"
     ]
    }
   ],
   "source": [
    "mat_B=np.array([[633,\t0,\t0,\t0,\t0,\t0.0756,\t0.84908,\t0.0756,\t0.20648,\t0,\t0,\t0,\t1.4965,\t0,\t0,\t0,\t0.0907,\t0.019032 \n",
    "],[0.0165,\t0,\t0,\t0,\t0,\t0,\t0,\t0,\t0,\t0,\t0,\t0,\t0,\t0,\t0,\t0,\t0,\t0 \n",
    "], [0.254,\t0,\t0,\t0,\t0,\t0.0000475,\t0.000028723,\t0.0000475,\t0.005141,\t0,\t0,\t0,\t0.0026074,\t0,\t0,\t0,\t0.000000419,\t0.0076128 \n",
    "], [0,\t0,\t0,\t0,\t0,\t0,\t0.0000015957,\t0,\t0.00074688,\t0,\t0,\t0,\t0,\t0,\t0,\t0,\t0.0000838,\t0.0007359 \n",
    "],[0,\t0,\t0,\t0,\t0,\t0,\t0.0000015957,\t0,\t0,\t0,\t0,\t0,\t0,\t0,\t0,\t0,\t0.000251,\t0.0066173 \n",
    "],[6,\t0,\t0,\t0,\t0,\t0.0000125,\t0.000079787,\t0.0000125,\t0,\t0,\t0,\t0,\t0.000063936,\t0,\t0,\t0,\t0,\t0 \n",
    "]])\n",
    "print('Mattrix B:\\n',mat_B)"
   ]
  },
  {
   "cell_type": "markdown",
   "metadata": {},
   "source": [
    "Each row in matrix $B$ represent one output shown below. A clearer presentation of matrix $B$ can be found in the submitted pdf file.\n",
    "\n",
    "$\\begin{array}{*{20}{l}}\n",
    "{{\\rm{Category}}}&{{\\rm{Substance}}}\\\\\n",
    "{{\\rm{Global}}\\begin{array}{*{20}{c}}\n",
    "{}&{{\\rm{warming}}}\n",
    "\\end{array}}&{{\\rm{Carbon }}\\begin{array}{*{20}{c}}\n",
    "{}&{{\\rm{dioxide}}}\n",
    "\\end{array}{\\rm{, fossil}}}\\\\\n",
    "{}&{{\\rm{Methane, fossil}}}\\\\\n",
    "{}&{{\\rm{Particulates,  <  2}}{\\rm{.5 um}}}\\\\\n",
    "{{\\rm{Smog}}}&{{\\rm{Particulates,  >  10 um}}}\\\\\n",
    "{}&{{\\rm{Particulates,  >  2}}{\\rm{.5 um, and  <  10um}}}\\\\\n",
    "{{\\rm{Eutriphication}}}&{{\\rm{Nitrogen }}\\begin{array}{*{20}{c}}\n",
    "{}&{{\\rm{oxides}}}\n",
    "\\end{array}}\n",
    "\\end{array}$"
   ]
  },
  {
   "cell_type": "code",
   "execution_count": 6,
   "metadata": {},
   "outputs": [],
   "source": [
    "# save B\n",
    "np.save('matrixB.npy',mat_B)"
   ]
  },
  {
   "cell_type": "markdown",
   "metadata": {},
   "source": [
    "### Q 2.5"
   ]
  },
  {
   "cell_type": "code",
   "execution_count": 7,
   "metadata": {},
   "outputs": [
    {
     "name": "stdout",
     "output_type": "stream",
     "text": [
      "g= [[  5.28174932e+03]\n",
      " [  1.65000000e-02]\n",
      " [  4.74335339e+00]\n",
      " [  1.75263577e-01]\n",
      " [  4.55981178e-01]\n",
      " [  6.36567487e+00]]\n"
     ]
    }
   ],
   "source": [
    "mat_g=np.matmul(mat_B,mat_s)\n",
    "\n",
    "print('g=',mat_g)"
   ]
  },
  {
   "cell_type": "markdown",
   "metadata": {},
   "source": [
    "### Q 2.7"
   ]
  },
  {
   "cell_type": "code",
   "execution_count": 8,
   "metadata": {
    "scrolled": false
   },
   "outputs": [
    {
     "name": "stdout",
     "output_type": "stream",
     "text": [
      "The matrix representing the characterization factors is:\n",
      " [[  1.00000000e+00   0.00000000e+00   0.00000000e+00]\n",
      " [  2.50000000e+01   0.00000000e+00   1.43794870e-02]\n",
      " [  0.00000000e+00   3.35311897e-01   2.47935897e+01]\n",
      " [  0.00000000e+00   0.00000000e+00   0.00000000e+00]\n",
      " [  0.00000000e+00   0.00000000e+00   0.00000000e+00]\n",
      " [  0.00000000e+00   0.00000000e+00   0.00000000e+00]]\n"
     ]
    }
   ],
   "source": [
    "mat_charac_factor=np.array([[1,\t0,\t0],[25,\t0,\t0.014379487\n",
    "],[0,\t0.335311896827,\t24.79358974],[0,\t0,\t0],[0,\t0,\t0],[0,\t0,\t0]])\n",
    "\n",
    "print('The matrix representing the characterization factors is:\\n', mat_charac_factor)"
   ]
  },
  {
   "cell_type": "markdown",
   "metadata": {},
   "source": [
    "Note that particulates have no influence over the three impact categories as the associated entries (the last three rows) are all zero."
   ]
  },
  {
   "cell_type": "markdown",
   "metadata": {},
   "source": [
    "### Q 2.8"
   ]
  },
  {
   "cell_type": "code",
   "execution_count": 9,
   "metadata": {},
   "outputs": [
    {
     "name": "stdout",
     "output_type": "stream",
     "text": [
      "The impact assessment result is:\n",
      " [[  5.28216182e+03   1.59050282e+00   1.17604995e+02]]\n"
     ]
    }
   ],
   "source": [
    "mat_IA=np.matmul(mat_g.T,mat_charac_factor)\n",
    "\n",
    "print('The impact assessment result is:\\n',mat_IA)"
   ]
  },
  {
   "cell_type": "markdown",
   "metadata": {},
   "source": [
    "The result for Global Warming, Eutrophication (Air and Water combined), and Smog is about 5282.16 (kg CO2 eq), 1.59 (kg N eq), and 117.60 (kg O3 eq)."
   ]
  },
  {
   "cell_type": "markdown",
   "metadata": {},
   "source": [
    "### Q 2.9"
   ]
  },
  {
   "cell_type": "markdown",
   "metadata": {},
   "source": [
    "Let $c_1$, $c_2$ represent the characterization factor for $CO_2$ and $CH_4$ respectively. Let $g_1$, $g_2$ represent the amount of $CO_2$ and $CH_4$ produced within the process of making a bus respectively. Let $A_1$ represent the total mass of $CO_2$ produced by all the processes combined. Then, we have\n",
    "\n",
    "$c_1 g_1+c_2 g_2=A_1$, where $c_1=1,c_2=25$. \n",
    "\n",
    "Since $[B]\\times [S]=[g]$, we also have \n",
    "\n",
    "$c_1(b_{11}s_1+b_{12}s_2+...+b_{18}s_{18})+c_2(b_{21}s_1+b_{22}s_2+...+b_{28}s_{18})=A_1$.\n",
    "\n",
    "From the above equation, we can see that the total amount of global warming gases generated by process $i$ can be computed as\n",
    "\n",
    "$s_i(c_1b_{1i}+c_2b_{2i})$"
   ]
  },
  {
   "cell_type": "code",
   "execution_count": 10,
   "metadata": {
    "scrolled": true
   },
   "outputs": [
    {
     "name": "stdout",
     "output_type": "stream",
     "text": [
      "[[  6.33412500e+02   0.00000000e+00   0.00000000e+00   0.00000000e+00\n",
      "    0.00000000e+00   2.13267600e+02   2.69482196e+03   3.54380770e+01\n",
      "    3.29170140e+01   0.00000000e+00   0.00000000e+00   0.00000000e+00\n",
      "    1.66942057e+03   0.00000000e+00   0.00000000e+00   0.00000000e+00\n",
      "    1.59994800e+00   1.28414614e+00]]\n"
     ]
    }
   ],
   "source": [
    "c1=1\n",
    "c2=25\n",
    "\n",
    "mat_contribution=np.multiply(mat_s.T,c1*mat_B[0,:])+np.multiply(mat_s.T,c2*mat_B[1,:])\n",
    "print(mat_contribution)\n",
    "# print(mat_contribution.sum())\n"
   ]
  },
  {
   "cell_type": "code",
   "execution_count": 11,
   "metadata": {
    "scrolled": false
   },
   "outputs": [
    {
     "name": "stdout",
     "output_type": "stream",
     "text": [
      "The number of process that contributes most to global warming is: 7\n",
      "The number of process that contributes the second most to global warming is: 13\n"
     ]
    }
   ],
   "source": [
    "num_largest=np.argmax(mat_contribution)+1\n",
    "print('The number of process that contributes most to global warming is:',num_largest)\n",
    "\n",
    "mat_contribution_sort=np.sort(mat_contribution,axis=None)\n",
    "num_second_large=np.where(mat_contribution[0]==mat_contribution_sort[-2])[0]\n",
    "num_second_large=np.asscalar(num_second_large)+1\n",
    "print('The number of process that contributes the second most to global warming is:',num_second_large)"
   ]
  },
  {
   "cell_type": "markdown",
   "metadata": {},
   "source": [
    "## Uncertainty modeling in LCA"
   ]
  },
  {
   "cell_type": "markdown",
   "metadata": {},
   "source": [
    "### Q 3.10"
   ]
  },
  {
   "cell_type": "code",
   "execution_count": 12,
   "metadata": {},
   "outputs": [],
   "source": [
    "# np.random.normal(mat_A, sigma)\n",
    "\n",
    "# input: number of sample in mc simulation for LCA where entries of matrix A are normal random variables.\n",
    "\n",
    "def LCA_mc(n_sample):\n",
    "    # creat empty matirx g that will be used to store the g vector in each realization of mc\n",
    "    mat_g_rand=np.zeros((mat_g.shape[0],n_sample))\n",
    "    \n",
    "    for i_sample in range(n_sample):\n",
    "       \n",
    "        # construct matrix A\n",
    "        mat_A_rand=np.zeros((mat_A.shape[0],mat_A.shape[1]))\n",
    "        for i in range(mat_A.shape[0]):\n",
    "            for j in range(mat_A.shape[1]):\n",
    "                mu=mat_A[i][j]\n",
    "                sigma=abs(0.12*mat_A[i][j])\n",
    "                mat_A_rand[i][j]=np.random.normal(mu,sigma,1)\n",
    "        \n",
    "        # solve for matrix s\n",
    "        mat_s=np.linalg.solve(mat_A_rand,mat_f)\n",
    "        \n",
    "        # solve for matrix g\n",
    "        vec_g_rand=np.matmul(mat_B,mat_s)\n",
    "    \n",
    "        # save vector g\n",
    "        mat_g_rand[:,[i_sample]]=vec_g_rand\n",
    "        \n",
    "        # calculate  CO2 emissions\n",
    "        \n",
    "        # clacuate NO emissions\n",
    "    return mat_g_rand\n",
    "        "
   ]
  },
  {
   "cell_type": "markdown",
   "metadata": {},
   "source": [
    "### Q 3.11 "
   ]
  },
  {
   "cell_type": "code",
   "execution_count": 13,
   "metadata": {},
   "outputs": [
    {
     "data": {
      "image/png": "[encoded data removed]",
      "text/plain": [
       "<Figure size 432x288 with 1 Axes>"
      ]
     },
     "metadata": {},
     "output_type": "display_data"
    },
    {
     "data": {
      "image/png": "[encoded data removed]",
      "text/plain": [
       "<Figure size 432x288 with 1 Axes>"
      ]
     },
     "metadata": {},
     "output_type": "display_data"
    }
   ],
   "source": [
    "n_sample=100\n",
    "\n",
    "mat_g_rand=LCA_mc(n_sample)\n",
    "# print(mat_g_rand)\n",
    "# print(mat_g_rand.shape)\n",
    "\n",
    "import matplotlib.pyplot as plt\n",
    "%matplotlib inline \n",
    "\n",
    "# histogram of CO2\n",
    "plt.hist(mat_g_rand[0,:])  # arguments are passed to np.histogram\n",
    "plt.title(\"Histogram of Carbon Dioxide Emissions\")\n",
    "plt.xlabel('Carbon Dioxide(kg)')\n",
    "plt.ylabel('Frequency')\n",
    "plt.show()\n",
    "\n",
    "# histogram of NO\n",
    "plt.hist(mat_g_rand[5,:])  # arguments are passed to np.histogram\n",
    "plt.title(\"Histogram of Nitrigen Oxide Emissions\")\n",
    "plt.xlabel('Nitrigen Oxide(kg)')\n",
    "plt.ylabel('Frequency')\n",
    "plt.show()\n"
   ]
  },
  {
   "cell_type": "markdown",
   "metadata": {},
   "source": [
    "### Q 3.12 "
   ]
  },
  {
   "cell_type": "code",
   "execution_count": 14,
   "metadata": {},
   "outputs": [
    {
     "name": "stdout",
     "output_type": "stream",
     "text": [
      "The mean, standard deviation, and median of carbon dioxide emissions are: 5490.91752006 , 1144.39127032 , and 5247.5678622 ,respectively.\n",
      "The mean, standard deviation, and median of nitrogen dioxide emissions are: 6.43728562387 , 0.795613123099 , and 6.39909546982 ,respectively.\n"
     ]
    }
   ],
   "source": [
    "# CO2\n",
    "\n",
    "# mean\n",
    "mean_CO2= np.mean(mat_g_rand[0,:],axis=None)\n",
    "# std \n",
    "st_CO2=np.std(mat_g_rand[0,:],axis=None)\n",
    "# median\n",
    "median_CO2=np.median(mat_g_rand[0,:],axis=None)\n",
    "\n",
    "print(\"The mean, standard deviation, and median of carbon dioxide emissions are:\",mean_CO2,',',st_CO2,', and',median_CO2,',respectively.')\n",
    "# NOs\n",
    "\n",
    "# mean\n",
    "mean_NOs= np.mean(mat_g_rand[5,:],axis=None)\n",
    "# st \n",
    "st_NOs=np.std(mat_g_rand[5,:],axis=None)\n",
    "# median\n",
    "median_NOs=np.median(mat_g_rand[5,:],axis=None)\n",
    "\n",
    "print(\"The mean, standard deviation, and median of nitrogen dioxide emissions are:\",mean_NOs,',',st_NOs,', and',median_NOs,',respectively.')"
   ]
  },
  {
   "cell_type": "markdown",
   "metadata": {},
   "source": [
    "### Q 3.13"
   ]
  },
  {
   "cell_type": "code",
   "execution_count": 15,
   "metadata": {},
   "outputs": [],
   "source": [
    "#### Number of samples is 10000"
   ]
  },
  {
   "cell_type": "code",
   "execution_count": 16,
   "metadata": {},
   "outputs": [
    {
     "name": "stdout",
     "output_type": "stream",
     "text": [
      "The mean, standard deviation, and median of carbon dioxide emissions are: 5551.04546587 , 1170.40481222 , and 5406.5842885 ,respectively.\n",
      "The mean, standard deviation, and median of nitrogen dioxide emissions are: 6.47148699329 , 0.810940234503 , and 6.38188633983 ,respectively.\n"
     ]
    }
   ],
   "source": [
    "n_sample=10000\n",
    "\n",
    "mat_g_rand=LCA_mc(n_sample)\n",
    "\n",
    "# mean\n",
    "mean_CO2= np.mean(mat_g_rand[0,:],axis=None)\n",
    "# std \n",
    "st_CO2=np.std(mat_g_rand[0,:],axis=None)\n",
    "# median\n",
    "median_CO2=np.median(mat_g_rand[0,:],axis=None)\n",
    "\n",
    "print(\"The mean, standard deviation, and median of carbon dioxide emissions are:\",mean_CO2,',',st_CO2,', and',median_CO2,',respectively.')\n",
    "# NOs\n",
    "\n",
    "# mean\n",
    "mean_NOs= np.mean(mat_g_rand[5,:],axis=None)\n",
    "# st \n",
    "st_NOs=np.std(mat_g_rand[5,:],axis=None)\n",
    "# median\n",
    "median_NOs=np.median(mat_g_rand[5,:],axis=None)\n",
    "\n",
    "print(\"The mean, standard deviation, and median of nitrogen dioxide emissions are:\",mean_NOs,',',st_NOs,', and',median_NOs,',respectively.')"
   ]
  },
  {
   "cell_type": "markdown",
   "metadata": {},
   "source": [
    "The mean, standard deviation, and median values change: the mean and median values get smaller while the standard deviations increase."
   ]
  },
  {
   "cell_type": "markdown",
   "metadata": {},
   "source": [
    "### Q 3.14"
   ]
  },
  {
   "cell_type": "code",
   "execution_count": 28,
   "metadata": {},
   "outputs": [],
   "source": [
    "def LCA_mc_carbon(n_sample):\n",
    "    # creat empty matirx g that will be used to store the g vector in each realization of mc\n",
    "    mat_g_rand=np.zeros((mat_g.shape[0],n_sample))\n",
    "    \n",
    "    for i_sample in range(n_sample):\n",
    "       \n",
    "        # construct matrix A\n",
    "        mat_A_rand=np.zeros((mat_A.shape[0],mat_A.shape[1]))\n",
    "        for i in range(mat_A.shape[0]):\n",
    "            for j in range(mat_A.shape[1]):\n",
    "                mu=mat_A[i][j]\n",
    "                scaling_factor=0.12\n",
    "                sigma=abs(scaling_factor*mat_A[i][j])\n",
    "                mat_A_rand[i][j]=np.random.normal(mu,sigma,1)\n",
    "        \n",
    "        # solve for matrix s\n",
    "        mat_s=np.linalg.solve(mat_A_rand,mat_f)\n",
    "        \n",
    "        # solve for matrix g\n",
    "        vec_g_rand=np.matmul(mat_B,mat_s)\n",
    "    \n",
    "        # save vector g\n",
    "        mat_g_rand[:,[i_sample]]=vec_g_rand\n",
    "        \n",
    "        # calculate  CO2 emissions\n",
    "        mean_CO2= np.mean(mat_g_rand[0,:],axis=None)\n",
    "        # clacuate NO emissions\n",
    "    return mean_CO2\n",
    "        "
   ]
  },
  {
   "cell_type": "code",
   "execution_count": 25,
   "metadata": {},
   "outputs": [
    {
     "data": {
      "text/plain": [
       "(6, 10000)"
      ]
     },
     "execution_count": 25,
     "metadata": {},
     "output_type": "execute_result"
    }
   ],
   "source": [
    "np.shape(mat_g_rand)"
   ]
  },
  {
   "cell_type": "code",
   "execution_count": 29,
   "metadata": {},
   "outputs": [],
   "source": [
    "n_sample_carbon=np.array([10,50,100,500,1000,2000,5000,10000])\n",
    "mean_CO2=np.zeros((n_sample_carbon.shape[0],1))\n",
    "for j_sample in range(n_sample_carbon.shape[0]):\n",
    "    mean_CO2[j_sample]=LCA_mc_carbon(n_sample_carbon[j_sample])\n"
   ]
  },
  {
   "cell_type": "code",
   "execution_count": 24,
   "metadata": {
    "scrolled": true
   },
   "outputs": [
    {
     "data": {
      "image/png": "[encoded data removed]",
      "text/plain": [
       "<Figure size 432x288 with 1 Axes>"
      ]
     },
     "metadata": {},
     "output_type": "display_data"
    }
   ],
   "source": [
    "# plot\n",
    "\n",
    "fontSize_title=16\n",
    "fontSize_label=15\n",
    "fontSize_legend=14\n",
    "width_plot=2\n",
    "\n",
    "plt.plot(n_sample_carbon,mean_CO2,'bo-',linewidth=width_plot)\n",
    "\n",
    "plt.title(\"Mean of Carbon Dioxide emissions \\n vs. number of samples\",fontsize=fontSize_title,fontweight='bold')\n",
    "plt.xlabel(\"Number of samples\",fontweight='bold',fontsize=fontSize_label)\n",
    "plt.ylabel(\"Mean of Carbon Dioxide \\n emissions (kg)\",fontweight='bold',fontsize=fontSize_label)\n",
    "# plt.legend(('Number of samples', 'Mean of Carbon \\n Dioxide emissions'), loc='best',fontsize=fontSize_legend)\n",
    "plt.grid()\n"
   ]
  },
  {
   "cell_type": "markdown",
   "metadata": {},
   "source": [
    "The mean of Carbon Dioxide emissions decreases sharply as the number of samples increases from 10 to 100, and then gradually decreases.\n",
    "\n",
    "### should have mentioned that it stablizes after $n=5000$. By the law of large numbers, it will converge gradually to the mean value as the number of samples futher increases."
   ]
  },
  {
   "cell_type": "markdown",
   "metadata": {},
   "source": [
    "### Q 3.15"
   ]
  },
  {
   "cell_type": "markdown",
   "metadata": {},
   "source": [
    "The standard deviations for carbon dioxide emissions and nitrogen oxide emissions are around 1/5 and 1/8 of their respective mean value, which can be considered as a sustantial amount of uncertainty. \n",
    "\n",
    "With deterministic matrix $A$, the mean of carbon dioxide and Nitrogen Oxide emissions is around 5282 and 6.36, while the both results from Monte Carlo simulation are higher, 5572 and 6.48 respectively. By only looking at the deterministic LCI, one could overlook the uncertainties of the estimates, thus underestimate the impact of making a bus on global warming. \n",
    "\n",
    "Wheather the deterministic estimates are good enough is dependent on the demand of the users. In general, I believe the deterministic estimates of the mean values can be considered as good one when compared to those obtained by Monte Carlo simulation since the relative errors are low (around 5% for carbon dixoide and 2% for nitrogen oxide). "
   ]
  },
  {
   "cell_type": "markdown",
   "metadata": {},
   "source": [
    "### Q 3.16"
   ]
  },
  {
   "cell_type": "markdown",
   "metadata": {},
   "source": [
    "According to the authors, is the use of electric vehicles expected to reduce or increase carbon dioxide equivalent emissions compared to internal combustion vehicles? Please explain how the authors arrived at their result.\n",
    "\n",
    "The authors show that EVs is not likely to reduce carbon dioxide equivalent emissions comprared to ICEVs. Depending on the type of EVs, the CO$_2$ emissions can be higher or lower than that produced by ICEVs. The results were obtained by using Monte Carlo simulation within the the LCA framework, thus revealing the variability of emissions over the life cycle of EVs, which is due to uncertain input variables, e.g. emission factors and battery parameters."
   ]
  }
 ],
 "metadata": {
  "kernelspec": {
   "display_name": "Python 3",
   "language": "python",
   "name": "python3"
  },
  "language_info": {
   "codemirror_mode": {
    "name": "ipython",
    "version": 3
   },
   "file_extension": ".py",
   "mimetype": "text/x-python",
   "name": "python",
   "nbconvert_exporter": "python",
   "pygments_lexer": "ipython3",
   "version": "3.6.4"
  }
 },
 "nbformat": 4,
 "nbformat_minor": 2
}
